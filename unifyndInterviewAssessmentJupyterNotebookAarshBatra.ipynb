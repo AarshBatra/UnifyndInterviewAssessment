{
 "cells": [
  {
   "cell_type": "markdown",
   "metadata": {},
   "source": [
    "# Unifynd Interview Assessment (Data Analytics)\n",
    "\n",
    "\n",
    "<br>\n",
    "\n",
    "---\n",
    "\n",
    "**Author**: Aarsh Batra\n",
    "<br>\n",
    "**E-mail**: aarshbatra.in@gmail.com\n",
    "<br>\n",
    "**Mob:** 8800592799\n",
    "<br>\n",
    "\n",
    "---"
   ]
  },
  {
   "cell_type": "markdown",
   "metadata": {},
   "source": [
    "&nbsp;\n",
    "\n",
    "\n",
    "## Checklist before running\n",
    "\n",
    "---\n",
    "\n",
    "* Before running the notebook, please make sure that the following steps are executed. I am certain that you are already well versed with these steps. But, I am still mentioning this for completeness:\n",
    "\n",
    "<br>\n",
    "\n",
    "   * Setup a R kernel in Anaconda Navigator (If you already have a R Kernel installed on Anaconda, you can move to the next instruction)\n",
    "    \n",
    "      * Open your Anaconda Navigator > Go to Environments tab > Click on Create > Select R > Name the Environment > Click               Create.\n",
    "        \n",
    "      * This will add a R Kernel to your Jupyter Notebooks with all the *r-essentials* list of packages installed.\n",
    "        \n",
    "<br>        \n",
    "\n",
    "* Launch Jupyter Notebook in your browser from your Anaconda Navigator and click on **New** and then select **R** from the available list of Kernels. This will create a New Jupyter Notebook with R as its Kernel (you can verify this by checking the top right area of the notebook, where you should see **R**). \n",
    "\n",
    "<br>\n",
    "\n",
    "* Once the Jupyter Notebook, with R as its kernel is launched, **click on File > Open > Open the Jupyter Notebook **unifyndInterviewAssessmentJupyterNotebookAarshBatra.ipynb**. Now, you have my Jupyter Notebook opened with a R Kernel.**\n",
    "\n",
    "<br>\n",
    "\n",
    "* Finally, please make sure that you have all the relevant packages installed in your environment that you created in the first step. \n",
    "\n",
    "   * Note that in the first step, when you created a R Kernel, it automatically added the **r-essentials** list of                   packages in your environment. \n",
    "        \n",
    "   * In addition to those, you would also need to add a few more packages (that aren't included in the r-essentials list             of packages). The load libraries section cell (see below) lists all the packages that are used by this notebook. Once           you add these packages, you will have all the necessary environment to run my Jupyter notebook smoothly.\n",
    "\n",
    "   * The additional list of packages (other than the r-essentials list of packages) that you need to install to run this             notebook (if you have already had these installed, please ignore this step) are: **devtools, roxygen2**.\n",
    "\n",
    "   * To download these packages: Open your Anaconda Navigator  > Go to Environments tab > Select your R environment, then           you will see a list of packages that are already installed (and also the list of those that are not installed).                 Search the above packages in the search bar and download them. \n",
    "\n",
    "   * If you'd like to download the packages that aren't available in the Anaconda Navigator GUI, you can do that by                 running the following command: `conda install -c r package-name` from the CMD.exe terminal app that you can launch             from within Anaconda. \n",
    "\n",
    "   * Although please note that as per [Anaconda help docs](https://docs.anaconda.com/anaconda/packages/r-language-pkg-               docs/), many Comprehensive R Archive Network (CRAN) packages are available as conda packages, but Anaconda does not             provide builds of the entire CRAN repository, so **there are some packages in CRAN that are not available as conda             packages.** For example, I used `skimr` as one of the packages in my R Notebook solution (in the Exploratory Data               Analysis section), but that package is not yet available as a conda package, so here in this notebook, I have                   replaced skimr, with the R's base library's `summary` function.\n",
    "\n",
    "<br>\n",
    "\n",
    "* Once all of the above steps are completed, you are all set to run this Jupyter Notebook.\n",
    "\n",
    "<br>\n",
    "\n",
    "* This notebook contains all code, output and answers, for all of the 7 Questions (and all its sub-parts). By that I mean, it     also contain answers to observation questions (ones in which I am asked about my observations and insights, e.g. Q7:part-3).\n",
    "\n",
    "<br>\n",
    "\n",
    "* Please note that some cells (e.g. the cell in which I read in data, cells in which table is displayed) might take a few seconds (3-4 seconds) to run. While they are running, the cell number is replaced by (*) and once the process is complete, the cell number comes back. After that, you can proceed to running the next cell.\n",
    "\n",
    "* Feel free to reach out to me at **aarshbatra.in@gmail.com**/8800592799 if you have any questions or run into any problems. I   will quickly troubleshoot it for you.\n",
    "\n",
    "&nbsp;\n",
    "\n",
    "&nbsp;\n",
    "\n",
    "\n",
    "---\n",
    "\n",
    "\n",
    "## Initial Setup\n",
    "\n",
    "---\n"
   ]
  },
  {
   "cell_type": "code",
   "execution_count": 3,
   "metadata": {},
   "outputs": [],
   "source": [
    "# metadata---------------------------------------------------------------------\n",
    "# author: Aarsh Batra\n",
    "# Start Date: October 07, 2021\n",
    "# R version: 4.1.1 (2021-08-10)\n",
    "# nickname: Kick Things\n",
    "# Platform: x86_64-w64-mingw32 \n",
    "# arch: x86_64\n",
    "# Running under: Windows 10 x64 (build 18363)\n",
    "# R Studio version info: 2021.09.0+351 \"Ghost Orchid\"\n",
    "# e-mail: aarshbatra.in@gmail.com\n",
    "\n",
    "# Global options\n",
    "options(warn = -1)"
   ]
  },
  {
   "cell_type": "code",
   "execution_count": 2,
   "metadata": {},
   "outputs": [
    {
     "name": "stderr",
     "output_type": "stream",
     "text": [
      "Registered S3 methods overwritten by 'ggplot2':\n",
      "  method         from \n",
      "  [.quosures     rlang\n",
      "  c.quosures     rlang\n",
      "  print.quosures rlang\n",
      "Registered S3 method overwritten by 'rvest':\n",
      "  method            from\n",
      "  read_xml.response xml2\n",
      "-- Attaching packages --------------------------------------- tidyverse 1.2.1 --\n",
      "v ggplot2 3.1.1       v purrr   0.3.2  \n",
      "v tibble  2.1.1       v dplyr   0.8.0.1\n",
      "v tidyr   0.8.3       v stringr 1.4.0  \n",
      "v readr   1.3.1       v forcats 0.4.0  \n",
      "-- Conflicts ------------------------------------------ tidyverse_conflicts() --\n",
      "x dplyr::filter() masks stats::filter()\n",
      "x dplyr::lag()    masks stats::lag()\n",
      "\n",
      "Attaching package: 'magrittr'\n",
      "\n",
      "The following object is masked from 'package:purrr':\n",
      "\n",
      "    set_names\n",
      "\n",
      "The following object is masked from 'package:tidyr':\n",
      "\n",
      "    extract\n",
      "\n",
      "\n",
      "Attaching package: 'data.table'\n",
      "\n",
      "The following objects are masked from 'package:dplyr':\n",
      "\n",
      "    between, first, last\n",
      "\n",
      "The following object is masked from 'package:purrr':\n",
      "\n",
      "    transpose\n",
      "\n",
      "\n",
      "Attaching package: 'lubridate'\n",
      "\n",
      "The following objects are masked from 'package:data.table':\n",
      "\n",
      "    hour, isoweek, mday, minute, month, quarter, second, wday, week,\n",
      "    yday, year\n",
      "\n",
      "The following object is masked from 'package:base':\n",
      "\n",
      "    date\n",
      "\n"
     ]
    }
   ],
   "source": [
    "# load libraries---------------------------------------------------------------\n",
    "\n",
    "library(tidyverse)\n",
    "library(knitr)\n",
    "library(devtools)\n",
    "library(stringr)\n",
    "library(tidyr)\n",
    "library(dplyr)\n",
    "# library(skimr)\n",
    "library(magrittr)\n",
    "library(data.table)\n",
    "library(lubridate)\n",
    "library(roxygen2)\n",
    "# library(testthat)\n",
    "library(ggplot2)\n",
    "library(readr)\n",
    "library(readxl)\n"
   ]
  },
  {
   "cell_type": "code",
   "execution_count": 4,
   "metadata": {},
   "outputs": [],
   "source": [
    "## helper functions------------------------------------------------------------\n",
    "\n",
    "# converting backward slashes to forward slashes in the path names-------------\n",
    "\n",
    "#' converting backward slashes to forward slashes in the path names\n",
    "#'\n",
    "#' When we construct relative path names in R using functions like\n",
    "#' \\code{normalizePath()}, R outputs path names containing \"backslashes\", but\n",
    "#' we require path names containing forward slashes. \\code{correct_path} \\\n",
    "#' function takes in a path name with backward slashes and converts it into a\n",
    "#' path name with forward slashes.\n",
    "#'\n",
    "#' @importFrom stringr str_replace_all\n",
    "#' @param backward_slash_path backward slash path\n",
    "#' @return \\code{forward_slash_path} path with forward slashes\n",
    "#'\n",
    "#' @examples\n",
    "#' correct_path(backward_slash_path = \"backward slash path\")\n",
    "#'\n",
    "#' @export\n",
    "#'\n",
    "\n",
    "correct_path <- function(backward_slash_path){\n",
    "  forward_slash_path <- str_replace_all(backward_slash_path, \"\\\\\\\\\", \"/\")\n",
    "  forward_slash_path\n",
    "}\n",
    "\n",
    "# end of function\n",
    "\n",
    "#========\n",
    "\n",
    "# read .xlsx data files into R-------------------------------------------------\n",
    "\n",
    "#' reading raw .xlsx data into R\n",
    "#'\n",
    "#' This functions reads in raw .xlsx data into R (after performing a few\n",
    "#' sanity checks) and throws an error if for any reason data cannot be read.\n",
    "#' Note that this function takes in a file name, not file path. A relative file\n",
    "#' path is automatically constructed in the function.\n",
    "#'\n",
    "#' @importFrom readxl read_xlsx\n",
    "#' @importFrom base file.exists stop\n",
    "#' @param file_name name of the .xlsx file\n",
    "#'\n",
    "#' @return This function returns an R object which contains the raw dataset.\n",
    "#'\n",
    "#' @examples\n",
    "#' read_raw_xlsx_data(file_name = \"couponTransactions.xlsx\")\n",
    "#'\n",
    "#' @export\n",
    "\n",
    "read_raw_xlsx_data <- function(file_name){\n",
    "\n",
    "  # construct relative path_to_file from file name\n",
    "  path_to_file <- file.path(correct_path(normalizePath(\".\")), \"data-raw\",\n",
    "            file_name)\n",
    "\n",
    "  # Sanity check 1: stop if file name is NOT of type \"character\"\n",
    "  if(!is.character(path_to_file)){\n",
    "    stop(\"path_to_file should be of type character\")\n",
    "  }\n",
    "\n",
    "  # Sanity check 2: stop if file does not exist at the given path\n",
    "  if(!file.exists(path_to_file)){\n",
    "    stop(\"file not present in the specified location. Please make sure\n",
    "         that you point the path to the raw data .xlsx file.\")\n",
    "  } else {\n",
    "    raw_data <- readxl::read_xlsx(path_to_file)\n",
    "    raw_data\n",
    "  }\n",
    "\n",
    "}\n",
    "\n",
    "# end of function\n",
    "\n",
    "#========\n",
    "\n"
   ]
  },
  {
   "cell_type": "code",
   "execution_count": 5,
   "metadata": {},
   "outputs": [],
   "source": [
    "# read in raw .xlsx datasets into R--------------------------------------------\n",
    "\n",
    "coupon_transactions_raw <- read_raw_xlsx_data(\"couponTransactions.xlsx\")\n",
    " \n",
    "customer_scans_raw <- read_raw_xlsx_data(\"customerScans.xlsx\")\n",
    "\n",
    "customer_user_raw <- read_raw_xlsx_data(\"customerUser.xlsx\")\n",
    "\n"
   ]
  },
  {
   "cell_type": "markdown",
   "metadata": {},
   "source": [
    "&nbsp;\n",
    "\n",
    "<hr>\n",
    "\n",
    "## Exploratory Data Analysis\n",
    "\n",
    "* First, I will explore the dataset after which I will proceed to\n",
    "answering the questions. Everything inside the below chunk of code is for exploration only. I have commented out most of the exploratory code, if you'd like to see what it does, you may uncomment it. None of the variable from the below chunk exploratory code are used after this chunk of code. Still, I have included some of the main exploratory code output below. \n",
    "\n",
    "&nbsp;\n"
   ]
  },
  {
   "cell_type": "code",
   "execution_count": 9,
   "metadata": {},
   "outputs": [
    {
     "data": {
      "text/plain": [
       "    couponId       customerId    couponUnlockDate             \n",
       " Min.   :  2.0   Min.   :    9   Min.   :2019-06-05 00:00:00  \n",
       " 1st Qu.:107.5   1st Qu.: 9310   1st Qu.:2020-01-05 00:00:00  \n",
       " Median :122.0   Median :28087   Median :2020-01-18 00:00:00  \n",
       " Mean   :151.9   Mean   :25406   Mean   :2020-02-17 08:11:43  \n",
       " 3rd Qu.:172.0   3rd Qu.:35039   3rd Qu.:2020-02-15 00:00:00  \n",
       " Max.   :469.0   Max.   :80851   Max.   :2020-11-12 00:00:00  "
      ]
     },
     "metadata": {},
     "output_type": "display_data"
    }
   ],
   "source": [
    "# exploring coupon_transaction_raw dataset-------------------------------------\n",
    "\n",
    "# View(coupon_transactions_raw)\n",
    "\n",
    "# getting a basic summary\n",
    "summary(coupon_transactions_raw)\n",
    "\n",
    "# # number of unique customers\n",
    "#   length(unique(coupon_transactions_raw$customerId)) # 14979\n",
    "# \n",
    "# # number of unique couponUnlock dates\n",
    "#   length(unique(coupon_transactions_raw$couponUnlockDate)) # 291\n",
    "# \n",
    "# # number of unique couponId's\n",
    "# length(unique(coupon_transactions_raw$couponId)) # 328\n",
    "\n",
    "\n",
    "# exploring customer_scans_raw dataset-----------------------------------------\n",
    "\n",
    "# View(customer_scans_raw)"
   ]
  },
  {
   "cell_type": "code",
   "execution_count": 10,
   "metadata": {},
   "outputs": [
    {
     "data": {
      "text/plain": [
       "   scanlogId        image             customerId   \n",
       " Min.   :    1   Length:22886       Min.   :    9  \n",
       " 1st Qu.:14935   Class :character   1st Qu.: 5288  \n",
       " Median :26393   Mode  :character   Median :14536  \n",
       " Mean   :26849                      Mean   :22356  \n",
       " 3rd Qu.:39501                      3rd Qu.:34897  \n",
       " Max.   :56189                      Max.   :80837  \n",
       "                                                   \n",
       "   createdAt                    storeName            billDate                  \n",
       " Min.   :2019-06-12 00:00:00   Length:22886       Min.   :1904-12-14 00:00:00  \n",
       " 1st Qu.:2019-12-26 00:00:00   Class :character   1st Qu.:2019-11-23 00:00:00  \n",
       " Median :2020-01-28 00:00:00   Mode  :character   Median :2020-01-18 00:00:00  \n",
       " Mean   :2020-02-20 09:05:35                      Mean   :2019-04-18 05:30:39  \n",
       " 3rd Qu.:2020-03-04 00:00:00                      3rd Qu.:2020-03-03 00:00:00  \n",
       " Max.   :2020-11-12 00:00:00                      Max.   :2248-02-19 00:00:00  \n",
       "                                                  NA's   :9                    \n",
       "   billTotal             points        \n",
       " Min.   :0.000e+00   Min.   :     1.0  \n",
       " 1st Qu.:2.300e+02   1st Qu.:    23.0  \n",
       " Median :7.920e+02   Median :    70.0  \n",
       " Mean   :5.453e+07   Mean   :   316.1  \n",
       " 3rd Qu.:2.797e+03   3rd Qu.:   221.0  \n",
       " Max.   :9.445e+10   Max.   :483483.0  \n",
       "                                       "
      ]
     },
     "metadata": {},
     "output_type": "display_data"
    }
   ],
   "source": [
    "# skim customer_scans_raw dataset\n",
    "summary(customer_scans_raw)\n",
    "\n",
    "# # max amount for billTotal column\n",
    "# max(customer_scans_raw$billTotal) # why is this too big? look into this.\n",
    "# \n",
    "# # number of unique customers\n",
    "# length(unique(customer_scans_raw$customerId))\n",
    "# \n",
    "# # number of unique scan log ids\n",
    "# length(unique(customer_scans_raw$scanlogId))\n",
    "# \n",
    "# # number of unique stores\n",
    "# length(unique(customer_scans_raw$storeName))\n",
    "# \n",
    "# # store with the maximum bill total\n",
    "# customer_scans_raw %>% \n",
    "#   filter(billTotal == max(billTotal)) %>%\n",
    "#   select(storeName)\n",
    "# \n",
    "\n",
    "# exploring customer_user_raw data---------------------------------------------\n",
    "\n",
    "# View(customer_user_raw)"
   ]
  },
  {
   "cell_type": "code",
   "execution_count": 11,
   "metadata": {},
   "outputs": [
    {
     "data": {
      "text/plain": [
       "   customerId      lastLogin                    earnedPoints   \n",
       " Min.   :    3   Min.   :2019-12-26 00:00:00   Min.   :     0  \n",
       " 1st Qu.:20468   1st Qu.:2020-02-12 00:00:00   1st Qu.:     0  \n",
       " Median :40848   Median :2020-03-21 00:00:00   Median :    60  \n",
       " Mean   :40841   Mean   :2020-05-17 22:21:06   Mean   :   202  \n",
       " 3rd Qu.:61221   3rd Qu.:2020-08-27 00:00:00   3rd Qu.:   103  \n",
       " Max.   :81583   Max.   :2020-11-26 00:00:00   Max.   :578883  \n",
       "                 NA's   :17281                                 \n",
       "  burnedPoints       totalPoints          gender             source         \n",
       " Min.   :    0.00   Min.   :  -998.0   Length:81450       Length:81450      \n",
       " 1st Qu.:    0.00   1st Qu.:     0.0   Class :character   Class :character  \n",
       " Median :    0.00   Median :    50.0   Mode  :character   Mode  :character  \n",
       " Mean   :   22.29   Mean   :   211.1                                        \n",
       " 3rd Qu.:    0.00   3rd Qu.:   101.0                                        \n",
       " Max.   :33095.00   Max.   :578881.9                                        \n",
       "                                                                            \n",
       "      rank        preferredMallId    secondaryMallId        tierId     \n",
       " Min.   :   0.0   Length:81450       Length:81450       Min.   :1.000  \n",
       " 1st Qu.: 568.8   Class :character   Class :character   1st Qu.:1.000  \n",
       " Median :3393.0   Mode  :character   Mode  :character   Median :1.000  \n",
       " Mean   :2486.3                                         Mean   :1.037  \n",
       " 3rd Qu.:3580.0                                         3rd Qu.:1.000  \n",
       " Max.   :3715.0                                         Max.   :5.000  \n",
       " NA's   :24854                                                         \n",
       "   gemBalance       createdAt                      totalXp          currentMall\n",
       " Min.   : 0.000   Min.   :2019-06-01 00:00:00   Min.   :     0.0   Min.   :1   \n",
       " 1st Qu.: 2.000   1st Qu.:2019-12-25 00:00:00   1st Qu.:     0.0   1st Qu.:1   \n",
       " Median : 2.000   Median :2020-02-11 00:00:00   Median :    60.0   Median :1   \n",
       " Mean   : 2.643   Mean   :2020-03-27 18:52:06   Mean   :   231.4   Mean   :1   \n",
       " 3rd Qu.: 2.000   3rd Qu.:2020-09-06 00:00:00   3rd Qu.:   104.0   3rd Qu.:1   \n",
       " Max.   :18.000   Max.   :2020-11-26 00:00:00   Max.   :578882.9   Max.   :1   \n",
       "                                                                   NA's   :27  "
      ]
     },
     "metadata": {},
     "output_type": "display_data"
    },
    {
     "data": {
      "text/html": [
       "1"
      ],
      "text/latex": [
       "1"
      ],
      "text/markdown": [
       "1"
      ],
      "text/plain": [
       "[1] 1"
      ]
     },
     "metadata": {},
     "output_type": "display_data"
    },
    {
     "data": {
      "text/html": [
       "2"
      ],
      "text/latex": [
       "2"
      ],
      "text/markdown": [
       "2"
      ],
      "text/plain": [
       "[1] 2"
      ]
     },
     "metadata": {},
     "output_type": "display_data"
    },
    {
     "data": {
      "text/html": [
       "1"
      ],
      "text/latex": [
       "1"
      ],
      "text/markdown": [
       "1"
      ],
      "text/plain": [
       "[1] 1"
      ]
     },
     "metadata": {},
     "output_type": "display_data"
    }
   ],
   "source": [
    "# skim customer_user_raw dataset\n",
    "summary(customer_user_raw)\n",
    "\n",
    "# # number of unique customers\n",
    "# unique(length(customer_user_raw$customerId))\n",
    "# \n",
    "# # number of unique tierId's \n",
    "# length(unique(customer_user_raw$tierId))\n",
    "# \n",
    "\n",
    "# wrapping up exploratory data analysis with a few more queries-----------------\n",
    "colnames_for_datasets_list <- list(coup_trans_col = colnames\n",
    "                                   (coupon_transactions_raw),\n",
    "                                cust_scans_col = colnames(customer_scans_raw), \n",
    "                              cust_user_col = colnames(customer_user_raw))\n",
    "\n",
    "# one common column between coupon_transactions_raw and customer_scans_raw\n",
    "sum(colnames_for_datasets_list[[2]] %in% \n",
    "      colnames_for_datasets_list[[1]])  # customerId\n",
    "\n",
    "# two common columns between customer_scans_raw and customer_user_raw\n",
    "sum(colnames_for_datasets_list[[3]] %in% \n",
    "      colnames_for_datasets_list[[2]]) # customerId, createdAt\n",
    "\n",
    "# one common column between customer_user_raw and coupon_transactions_raw\n",
    "sum(colnames_for_datasets_list[[3]] %in% \n",
    "      colnames_for_datasets_list[[1]]) # customerId"
   ]
  },
  {
   "cell_type": "code",
   "execution_count": 8,
   "metadata": {},
   "outputs": [
    {
     "data": {
      "text/plain": [
       "   customerId      lastLogin                    earnedPoints   \n",
       " Min.   :    3   Min.   :2019-12-26 00:00:00   Min.   :     0  \n",
       " 1st Qu.:20468   1st Qu.:2020-02-12 00:00:00   1st Qu.:     0  \n",
       " Median :40848   Median :2020-03-21 00:00:00   Median :    60  \n",
       " Mean   :40841   Mean   :2020-05-17 22:21:06   Mean   :   202  \n",
       " 3rd Qu.:61221   3rd Qu.:2020-08-27 00:00:00   3rd Qu.:   103  \n",
       " Max.   :81583   Max.   :2020-11-26 00:00:00   Max.   :578883  \n",
       "                 NA's   :17281                                 \n",
       "  burnedPoints       totalPoints          gender             source         \n",
       " Min.   :    0.00   Min.   :  -998.0   Length:81450       Length:81450      \n",
       " 1st Qu.:    0.00   1st Qu.:     0.0   Class :character   Class :character  \n",
       " Median :    0.00   Median :    50.0   Mode  :character   Mode  :character  \n",
       " Mean   :   22.29   Mean   :   211.1                                        \n",
       " 3rd Qu.:    0.00   3rd Qu.:   101.0                                        \n",
       " Max.   :33095.00   Max.   :578881.9                                        \n",
       "                                                                            \n",
       "      rank        preferredMallId    secondaryMallId        tierId     \n",
       " Min.   :   0.0   Length:81450       Length:81450       Min.   :1.000  \n",
       " 1st Qu.: 568.8   Class :character   Class :character   1st Qu.:1.000  \n",
       " Median :3393.0   Mode  :character   Mode  :character   Median :1.000  \n",
       " Mean   :2486.3                                         Mean   :1.037  \n",
       " 3rd Qu.:3580.0                                         3rd Qu.:1.000  \n",
       " Max.   :3715.0                                         Max.   :5.000  \n",
       " NA's   :24854                                                         \n",
       "   gemBalance       createdAt                      totalXp          currentMall\n",
       " Min.   : 0.000   Min.   :2019-06-01 00:00:00   Min.   :     0.0   Min.   :1   \n",
       " 1st Qu.: 2.000   1st Qu.:2019-12-25 00:00:00   1st Qu.:     0.0   1st Qu.:1   \n",
       " Median : 2.000   Median :2020-02-11 00:00:00   Median :    60.0   Median :1   \n",
       " Mean   : 2.643   Mean   :2020-03-27 18:52:06   Mean   :   231.4   Mean   :1   \n",
       " 3rd Qu.: 2.000   3rd Qu.:2020-09-06 00:00:00   3rd Qu.:   104.0   3rd Qu.:1   \n",
       " Max.   :18.000   Max.   :2020-11-26 00:00:00   Max.   :578882.9   Max.   :1   \n",
       "                                                                   NA's   :27  "
      ]
     },
     "metadata": {},
     "output_type": "display_data"
    }
   ],
   "source": [
    "summary(customer_user_raw)"
   ]
  },
  {
   "cell_type": "markdown",
   "metadata": {},
   "source": [
    "&nbsp;\n",
    "\n",
    "<hr>\n",
    "\n",
    "## Let's get to the answers:\n",
    "\n",
    "<hr>\n",
    "\n",
    "&nbsp;\n",
    "\n",
    "### Code and answer for Q1\n",
    "\n",
    "**Question 1**: How many Users have logged in after 1st September 2020 till date? How many of those have Signed up in September 2019?\n",
    "\n",
    "&nbsp;\n",
    "\n",
    "**Code:**\n",
    "\n",
    "&nbsp;\n"
   ]
  },
  {
   "cell_type": "code",
   "execution_count": 13,
   "metadata": {},
   "outputs": [
    {
     "data": {
      "text/html": [
       "<table>\n",
       "<thead><tr><th scope=col>customerId</th><th scope=col>createdAt</th><th scope=col>lastLogin</th><th scope=col>tierId</th></tr></thead>\n",
       "<tbody>\n",
       "\t<tr><td>  9       </td><td>2019-06-03</td><td>2020-11-23</td><td>2         </td></tr>\n",
       "\t<tr><td> 26       </td><td>2019-06-05</td><td>2020-11-22</td><td>2         </td></tr>\n",
       "\t<tr><td> 32       </td><td>2019-06-06</td><td>2020-11-17</td><td>1         </td></tr>\n",
       "\t<tr><td> 34       </td><td>2019-06-06</td><td>2020-11-19</td><td>1         </td></tr>\n",
       "\t<tr><td> 42       </td><td>2019-06-12</td><td>2020-11-21</td><td>2         </td></tr>\n",
       "\t<tr><td> 44       </td><td>2019-06-13</td><td>2020-11-07</td><td>1         </td></tr>\n",
       "\t<tr><td> 45       </td><td>2019-06-13</td><td>2020-11-13</td><td>1         </td></tr>\n",
       "\t<tr><td> 46       </td><td>2019-06-20</td><td>2020-10-15</td><td>1         </td></tr>\n",
       "\t<tr><td> 55       </td><td>2019-07-21</td><td>2020-11-20</td><td>2         </td></tr>\n",
       "\t<tr><td> 56       </td><td>2019-07-22</td><td>2020-10-31</td><td>1         </td></tr>\n",
       "\t<tr><td> 58       </td><td>2019-07-24</td><td>2020-09-14</td><td>2         </td></tr>\n",
       "\t<tr><td> 63       </td><td>2019-08-08</td><td>2020-11-11</td><td>1         </td></tr>\n",
       "\t<tr><td> 74       </td><td>2019-08-27</td><td>2020-11-26</td><td>2         </td></tr>\n",
       "\t<tr><td> 80       </td><td>2019-08-31</td><td>2020-10-10</td><td>2         </td></tr>\n",
       "\t<tr><td> 83       </td><td>2019-08-31</td><td>2020-11-25</td><td>3         </td></tr>\n",
       "\t<tr><td> 88       </td><td>2019-09-01</td><td>2020-11-24</td><td>2         </td></tr>\n",
       "\t<tr><td>106       </td><td>2019-09-01</td><td>2020-09-27</td><td>1         </td></tr>\n",
       "\t<tr><td>119       </td><td>2019-09-02</td><td>2020-11-25</td><td>2         </td></tr>\n",
       "\t<tr><td>123       </td><td>2019-09-02</td><td>2020-10-10</td><td>1         </td></tr>\n",
       "\t<tr><td>139       </td><td>2019-09-04</td><td>2020-11-25</td><td>1         </td></tr>\n",
       "\t<tr><td>150       </td><td>2019-09-04</td><td>2020-09-08</td><td>2         </td></tr>\n",
       "\t<tr><td>169       </td><td>2019-09-05</td><td>2020-09-22</td><td>1         </td></tr>\n",
       "\t<tr><td>175       </td><td>2019-09-06</td><td>2020-11-18</td><td>2         </td></tr>\n",
       "\t<tr><td>177       </td><td>2019-09-06</td><td>2020-11-24</td><td>3         </td></tr>\n",
       "\t<tr><td>187       </td><td>2019-09-07</td><td>2020-11-11</td><td>2         </td></tr>\n",
       "\t<tr><td>189       </td><td>2019-09-08</td><td>2020-11-23</td><td>3         </td></tr>\n",
       "\t<tr><td>191       </td><td>2019-09-08</td><td>2020-11-21</td><td>2         </td></tr>\n",
       "\t<tr><td>205       </td><td>2019-09-09</td><td>2020-11-25</td><td>1         </td></tr>\n",
       "\t<tr><td>206       </td><td>2019-09-09</td><td>2020-11-24</td><td>2         </td></tr>\n",
       "\t<tr><td>208       </td><td>2019-09-10</td><td>2020-11-20</td><td>2         </td></tr>\n",
       "\t<tr><td>...</td><td>...</td><td>...</td><td>...</td></tr>\n",
       "\t<tr><td>81533     </td><td>2020-11-23</td><td>2020-11-24</td><td>1         </td></tr>\n",
       "\t<tr><td>81535     </td><td>2020-11-23</td><td>2020-11-23</td><td>1         </td></tr>\n",
       "\t<tr><td>81536     </td><td>2020-11-23</td><td>2020-11-23</td><td>1         </td></tr>\n",
       "\t<tr><td>81537     </td><td>2020-11-23</td><td>2020-11-24</td><td>1         </td></tr>\n",
       "\t<tr><td>81540     </td><td>2020-11-23</td><td>2020-11-24</td><td>2         </td></tr>\n",
       "\t<tr><td>81541     </td><td>2020-11-23</td><td>2020-11-23</td><td>1         </td></tr>\n",
       "\t<tr><td>81543     </td><td>2020-11-23</td><td>2020-11-23</td><td>1         </td></tr>\n",
       "\t<tr><td>81546     </td><td>2020-11-23</td><td>2020-11-25</td><td>1         </td></tr>\n",
       "\t<tr><td>81548     </td><td>2020-11-24</td><td>2020-11-24</td><td>1         </td></tr>\n",
       "\t<tr><td>81549     </td><td>2020-11-24</td><td>2020-11-24</td><td>1         </td></tr>\n",
       "\t<tr><td>81552     </td><td>2020-11-24</td><td>2020-11-24</td><td>1         </td></tr>\n",
       "\t<tr><td>81554     </td><td>2020-11-24</td><td>2020-11-25</td><td>1         </td></tr>\n",
       "\t<tr><td>81555     </td><td>2020-11-24</td><td>2020-11-25</td><td>1         </td></tr>\n",
       "\t<tr><td>81556     </td><td>2020-11-24</td><td>2020-11-25</td><td>1         </td></tr>\n",
       "\t<tr><td>81557     </td><td>2020-11-24</td><td>2020-11-25</td><td>1         </td></tr>\n",
       "\t<tr><td>81558     </td><td>2020-11-24</td><td>2020-11-25</td><td>1         </td></tr>\n",
       "\t<tr><td>81559     </td><td>2020-11-24</td><td>2020-11-24</td><td>1         </td></tr>\n",
       "\t<tr><td>81560     </td><td>2020-11-24</td><td>2020-11-24</td><td>2         </td></tr>\n",
       "\t<tr><td>81561     </td><td>2020-11-25</td><td>2020-11-25</td><td>1         </td></tr>\n",
       "\t<tr><td>81563     </td><td>2020-11-25</td><td>2020-11-25</td><td>1         </td></tr>\n",
       "\t<tr><td>81564     </td><td>2020-11-25</td><td>2020-11-25</td><td>1         </td></tr>\n",
       "\t<tr><td>81565     </td><td>2020-11-25</td><td>2020-11-25</td><td>1         </td></tr>\n",
       "\t<tr><td>81567     </td><td>2020-11-25</td><td>2020-11-26</td><td>1         </td></tr>\n",
       "\t<tr><td>81571     </td><td>2020-11-25</td><td>2020-11-25</td><td>1         </td></tr>\n",
       "\t<tr><td>81576     </td><td>2020-11-25</td><td>2020-11-25</td><td>1         </td></tr>\n",
       "\t<tr><td>81577     </td><td>2020-11-25</td><td>2020-11-25</td><td>1         </td></tr>\n",
       "\t<tr><td>81578     </td><td>2020-11-25</td><td>2020-11-25</td><td>1         </td></tr>\n",
       "\t<tr><td>81580     </td><td>2020-11-25</td><td>2020-11-25</td><td>1         </td></tr>\n",
       "\t<tr><td>81581     </td><td>2020-11-25</td><td>2020-11-25</td><td>1         </td></tr>\n",
       "\t<tr><td>81582     </td><td>2020-11-26</td><td>2020-11-26</td><td>1         </td></tr>\n",
       "</tbody>\n",
       "</table>\n"
      ],
      "text/latex": [
       "\\begin{tabular}{r|llll}\n",
       " customerId & createdAt & lastLogin & tierId\\\\\n",
       "\\hline\n",
       "\t   9        & 2019-06-03 & 2020-11-23 & 2         \\\\\n",
       "\t  26        & 2019-06-05 & 2020-11-22 & 2         \\\\\n",
       "\t  32        & 2019-06-06 & 2020-11-17 & 1         \\\\\n",
       "\t  34        & 2019-06-06 & 2020-11-19 & 1         \\\\\n",
       "\t  42        & 2019-06-12 & 2020-11-21 & 2         \\\\\n",
       "\t  44        & 2019-06-13 & 2020-11-07 & 1         \\\\\n",
       "\t  45        & 2019-06-13 & 2020-11-13 & 1         \\\\\n",
       "\t  46        & 2019-06-20 & 2020-10-15 & 1         \\\\\n",
       "\t  55        & 2019-07-21 & 2020-11-20 & 2         \\\\\n",
       "\t  56        & 2019-07-22 & 2020-10-31 & 1         \\\\\n",
       "\t  58        & 2019-07-24 & 2020-09-14 & 2         \\\\\n",
       "\t  63        & 2019-08-08 & 2020-11-11 & 1         \\\\\n",
       "\t  74        & 2019-08-27 & 2020-11-26 & 2         \\\\\n",
       "\t  80        & 2019-08-31 & 2020-10-10 & 2         \\\\\n",
       "\t  83        & 2019-08-31 & 2020-11-25 & 3         \\\\\n",
       "\t  88        & 2019-09-01 & 2020-11-24 & 2         \\\\\n",
       "\t 106        & 2019-09-01 & 2020-09-27 & 1         \\\\\n",
       "\t 119        & 2019-09-02 & 2020-11-25 & 2         \\\\\n",
       "\t 123        & 2019-09-02 & 2020-10-10 & 1         \\\\\n",
       "\t 139        & 2019-09-04 & 2020-11-25 & 1         \\\\\n",
       "\t 150        & 2019-09-04 & 2020-09-08 & 2         \\\\\n",
       "\t 169        & 2019-09-05 & 2020-09-22 & 1         \\\\\n",
       "\t 175        & 2019-09-06 & 2020-11-18 & 2         \\\\\n",
       "\t 177        & 2019-09-06 & 2020-11-24 & 3         \\\\\n",
       "\t 187        & 2019-09-07 & 2020-11-11 & 2         \\\\\n",
       "\t 189        & 2019-09-08 & 2020-11-23 & 3         \\\\\n",
       "\t 191        & 2019-09-08 & 2020-11-21 & 2         \\\\\n",
       "\t 205        & 2019-09-09 & 2020-11-25 & 1         \\\\\n",
       "\t 206        & 2019-09-09 & 2020-11-24 & 2         \\\\\n",
       "\t 208        & 2019-09-10 & 2020-11-20 & 2         \\\\\n",
       "\t ... & ... & ... & ...\\\\\n",
       "\t 81533      & 2020-11-23 & 2020-11-24 & 1         \\\\\n",
       "\t 81535      & 2020-11-23 & 2020-11-23 & 1         \\\\\n",
       "\t 81536      & 2020-11-23 & 2020-11-23 & 1         \\\\\n",
       "\t 81537      & 2020-11-23 & 2020-11-24 & 1         \\\\\n",
       "\t 81540      & 2020-11-23 & 2020-11-24 & 2         \\\\\n",
       "\t 81541      & 2020-11-23 & 2020-11-23 & 1         \\\\\n",
       "\t 81543      & 2020-11-23 & 2020-11-23 & 1         \\\\\n",
       "\t 81546      & 2020-11-23 & 2020-11-25 & 1         \\\\\n",
       "\t 81548      & 2020-11-24 & 2020-11-24 & 1         \\\\\n",
       "\t 81549      & 2020-11-24 & 2020-11-24 & 1         \\\\\n",
       "\t 81552      & 2020-11-24 & 2020-11-24 & 1         \\\\\n",
       "\t 81554      & 2020-11-24 & 2020-11-25 & 1         \\\\\n",
       "\t 81555      & 2020-11-24 & 2020-11-25 & 1         \\\\\n",
       "\t 81556      & 2020-11-24 & 2020-11-25 & 1         \\\\\n",
       "\t 81557      & 2020-11-24 & 2020-11-25 & 1         \\\\\n",
       "\t 81558      & 2020-11-24 & 2020-11-25 & 1         \\\\\n",
       "\t 81559      & 2020-11-24 & 2020-11-24 & 1         \\\\\n",
       "\t 81560      & 2020-11-24 & 2020-11-24 & 2         \\\\\n",
       "\t 81561      & 2020-11-25 & 2020-11-25 & 1         \\\\\n",
       "\t 81563      & 2020-11-25 & 2020-11-25 & 1         \\\\\n",
       "\t 81564      & 2020-11-25 & 2020-11-25 & 1         \\\\\n",
       "\t 81565      & 2020-11-25 & 2020-11-25 & 1         \\\\\n",
       "\t 81567      & 2020-11-25 & 2020-11-26 & 1         \\\\\n",
       "\t 81571      & 2020-11-25 & 2020-11-25 & 1         \\\\\n",
       "\t 81576      & 2020-11-25 & 2020-11-25 & 1         \\\\\n",
       "\t 81577      & 2020-11-25 & 2020-11-25 & 1         \\\\\n",
       "\t 81578      & 2020-11-25 & 2020-11-25 & 1         \\\\\n",
       "\t 81580      & 2020-11-25 & 2020-11-25 & 1         \\\\\n",
       "\t 81581      & 2020-11-25 & 2020-11-25 & 1         \\\\\n",
       "\t 81582      & 2020-11-26 & 2020-11-26 & 1         \\\\\n",
       "\\end{tabular}\n"
      ],
      "text/markdown": [
       "\n",
       "| customerId | createdAt | lastLogin | tierId |\n",
       "|---|---|---|---|\n",
       "|   9        | 2019-06-03 | 2020-11-23 | 2          |\n",
       "|  26        | 2019-06-05 | 2020-11-22 | 2          |\n",
       "|  32        | 2019-06-06 | 2020-11-17 | 1          |\n",
       "|  34        | 2019-06-06 | 2020-11-19 | 1          |\n",
       "|  42        | 2019-06-12 | 2020-11-21 | 2          |\n",
       "|  44        | 2019-06-13 | 2020-11-07 | 1          |\n",
       "|  45        | 2019-06-13 | 2020-11-13 | 1          |\n",
       "|  46        | 2019-06-20 | 2020-10-15 | 1          |\n",
       "|  55        | 2019-07-21 | 2020-11-20 | 2          |\n",
       "|  56        | 2019-07-22 | 2020-10-31 | 1          |\n",
       "|  58        | 2019-07-24 | 2020-09-14 | 2          |\n",
       "|  63        | 2019-08-08 | 2020-11-11 | 1          |\n",
       "|  74        | 2019-08-27 | 2020-11-26 | 2          |\n",
       "|  80        | 2019-08-31 | 2020-10-10 | 2          |\n",
       "|  83        | 2019-08-31 | 2020-11-25 | 3          |\n",
       "|  88        | 2019-09-01 | 2020-11-24 | 2          |\n",
       "| 106        | 2019-09-01 | 2020-09-27 | 1          |\n",
       "| 119        | 2019-09-02 | 2020-11-25 | 2          |\n",
       "| 123        | 2019-09-02 | 2020-10-10 | 1          |\n",
       "| 139        | 2019-09-04 | 2020-11-25 | 1          |\n",
       "| 150        | 2019-09-04 | 2020-09-08 | 2          |\n",
       "| 169        | 2019-09-05 | 2020-09-22 | 1          |\n",
       "| 175        | 2019-09-06 | 2020-11-18 | 2          |\n",
       "| 177        | 2019-09-06 | 2020-11-24 | 3          |\n",
       "| 187        | 2019-09-07 | 2020-11-11 | 2          |\n",
       "| 189        | 2019-09-08 | 2020-11-23 | 3          |\n",
       "| 191        | 2019-09-08 | 2020-11-21 | 2          |\n",
       "| 205        | 2019-09-09 | 2020-11-25 | 1          |\n",
       "| 206        | 2019-09-09 | 2020-11-24 | 2          |\n",
       "| 208        | 2019-09-10 | 2020-11-20 | 2          |\n",
       "| ... | ... | ... | ... |\n",
       "| 81533      | 2020-11-23 | 2020-11-24 | 1          |\n",
       "| 81535      | 2020-11-23 | 2020-11-23 | 1          |\n",
       "| 81536      | 2020-11-23 | 2020-11-23 | 1          |\n",
       "| 81537      | 2020-11-23 | 2020-11-24 | 1          |\n",
       "| 81540      | 2020-11-23 | 2020-11-24 | 2          |\n",
       "| 81541      | 2020-11-23 | 2020-11-23 | 1          |\n",
       "| 81543      | 2020-11-23 | 2020-11-23 | 1          |\n",
       "| 81546      | 2020-11-23 | 2020-11-25 | 1          |\n",
       "| 81548      | 2020-11-24 | 2020-11-24 | 1          |\n",
       "| 81549      | 2020-11-24 | 2020-11-24 | 1          |\n",
       "| 81552      | 2020-11-24 | 2020-11-24 | 1          |\n",
       "| 81554      | 2020-11-24 | 2020-11-25 | 1          |\n",
       "| 81555      | 2020-11-24 | 2020-11-25 | 1          |\n",
       "| 81556      | 2020-11-24 | 2020-11-25 | 1          |\n",
       "| 81557      | 2020-11-24 | 2020-11-25 | 1          |\n",
       "| 81558      | 2020-11-24 | 2020-11-25 | 1          |\n",
       "| 81559      | 2020-11-24 | 2020-11-24 | 1          |\n",
       "| 81560      | 2020-11-24 | 2020-11-24 | 2          |\n",
       "| 81561      | 2020-11-25 | 2020-11-25 | 1          |\n",
       "| 81563      | 2020-11-25 | 2020-11-25 | 1          |\n",
       "| 81564      | 2020-11-25 | 2020-11-25 | 1          |\n",
       "| 81565      | 2020-11-25 | 2020-11-25 | 1          |\n",
       "| 81567      | 2020-11-25 | 2020-11-26 | 1          |\n",
       "| 81571      | 2020-11-25 | 2020-11-25 | 1          |\n",
       "| 81576      | 2020-11-25 | 2020-11-25 | 1          |\n",
       "| 81577      | 2020-11-25 | 2020-11-25 | 1          |\n",
       "| 81578      | 2020-11-25 | 2020-11-25 | 1          |\n",
       "| 81580      | 2020-11-25 | 2020-11-25 | 1          |\n",
       "| 81581      | 2020-11-25 | 2020-11-25 | 1          |\n",
       "| 81582      | 2020-11-26 | 2020-11-26 | 1          |\n",
       "\n"
      ],
      "text/plain": [
       "      customerId createdAt  lastLogin  tierId\n",
       "1       9        2019-06-03 2020-11-23 2     \n",
       "2      26        2019-06-05 2020-11-22 2     \n",
       "3      32        2019-06-06 2020-11-17 1     \n",
       "4      34        2019-06-06 2020-11-19 1     \n",
       "5      42        2019-06-12 2020-11-21 2     \n",
       "6      44        2019-06-13 2020-11-07 1     \n",
       "7      45        2019-06-13 2020-11-13 1     \n",
       "8      46        2019-06-20 2020-10-15 1     \n",
       "9      55        2019-07-21 2020-11-20 2     \n",
       "10     56        2019-07-22 2020-10-31 1     \n",
       "11     58        2019-07-24 2020-09-14 2     \n",
       "12     63        2019-08-08 2020-11-11 1     \n",
       "13     74        2019-08-27 2020-11-26 2     \n",
       "14     80        2019-08-31 2020-10-10 2     \n",
       "15     83        2019-08-31 2020-11-25 3     \n",
       "16     88        2019-09-01 2020-11-24 2     \n",
       "17    106        2019-09-01 2020-09-27 1     \n",
       "18    119        2019-09-02 2020-11-25 2     \n",
       "19    123        2019-09-02 2020-10-10 1     \n",
       "20    139        2019-09-04 2020-11-25 1     \n",
       "21    150        2019-09-04 2020-09-08 2     \n",
       "22    169        2019-09-05 2020-09-22 1     \n",
       "23    175        2019-09-06 2020-11-18 2     \n",
       "24    177        2019-09-06 2020-11-24 3     \n",
       "25    187        2019-09-07 2020-11-11 2     \n",
       "26    189        2019-09-08 2020-11-23 3     \n",
       "27    191        2019-09-08 2020-11-21 2     \n",
       "28    205        2019-09-09 2020-11-25 1     \n",
       "29    206        2019-09-09 2020-11-24 2     \n",
       "30    208        2019-09-10 2020-11-20 2     \n",
       "...   ...        ...        ...        ...   \n",
       "10294 81533      2020-11-23 2020-11-24 1     \n",
       "10295 81535      2020-11-23 2020-11-23 1     \n",
       "10296 81536      2020-11-23 2020-11-23 1     \n",
       "10297 81537      2020-11-23 2020-11-24 1     \n",
       "10298 81540      2020-11-23 2020-11-24 2     \n",
       "10299 81541      2020-11-23 2020-11-23 1     \n",
       "10300 81543      2020-11-23 2020-11-23 1     \n",
       "10301 81546      2020-11-23 2020-11-25 1     \n",
       "10302 81548      2020-11-24 2020-11-24 1     \n",
       "10303 81549      2020-11-24 2020-11-24 1     \n",
       "10304 81552      2020-11-24 2020-11-24 1     \n",
       "10305 81554      2020-11-24 2020-11-25 1     \n",
       "10306 81555      2020-11-24 2020-11-25 1     \n",
       "10307 81556      2020-11-24 2020-11-25 1     \n",
       "10308 81557      2020-11-24 2020-11-25 1     \n",
       "10309 81558      2020-11-24 2020-11-25 1     \n",
       "10310 81559      2020-11-24 2020-11-24 1     \n",
       "10311 81560      2020-11-24 2020-11-24 2     \n",
       "10312 81561      2020-11-25 2020-11-25 1     \n",
       "10313 81563      2020-11-25 2020-11-25 1     \n",
       "10314 81564      2020-11-25 2020-11-25 1     \n",
       "10315 81565      2020-11-25 2020-11-25 1     \n",
       "10316 81567      2020-11-25 2020-11-26 1     \n",
       "10317 81571      2020-11-25 2020-11-25 1     \n",
       "10318 81576      2020-11-25 2020-11-25 1     \n",
       "10319 81577      2020-11-25 2020-11-25 1     \n",
       "10320 81578      2020-11-25 2020-11-25 1     \n",
       "10321 81580      2020-11-25 2020-11-25 1     \n",
       "10322 81581      2020-11-25 2020-11-25 1     \n",
       "10323 81582      2020-11-26 2020-11-26 1     "
      ]
     },
     "metadata": {},
     "output_type": "display_data"
    },
    {
     "data": {
      "text/html": [
       "10323"
      ],
      "text/latex": [
       "10323"
      ],
      "text/markdown": [
       "10323"
      ],
      "text/plain": [
       "[1] 10323"
      ]
     },
     "metadata": {},
     "output_type": "display_data"
    },
    {
     "data": {
      "text/html": [
       "209"
      ],
      "text/latex": [
       "209"
      ],
      "text/markdown": [
       "209"
      ],
      "text/plain": [
       "[1] 209"
      ]
     },
     "metadata": {},
     "output_type": "display_data"
    }
   ],
   "source": [
    "# number of users who have logged in after 1st September 2021, till date\n",
    "\n",
    "customer_user_raw_Q1_subset <- customer_user_raw %>%\n",
    "  select(customerId, createdAt, lastLogin, tierId) %>%\n",
    "  filter(lastLogin > lubridate::as_datetime(\"2020-09-01\")) %>%\n",
    "  distinct()\n",
    " \n",
    "customer_user_raw_Q1_subset\n",
    "\n",
    "# number of users logged in after Sep 2021.\n",
    " num_users_log_in_after_sep2021 <- customer_user_raw_Q1_subset %>%\n",
    "   nrow()                                \n",
    " \n",
    " num_users_log_in_after_sep2021 # answer to Q1Part-1 = 10,323 users\n",
    "\n",
    "\n",
    "# Of the above 10,323 users, how many signed up in September, 2019.\n",
    "\n",
    " num_user_logInAfterSep2021_signedUpInSep2019 <- customer_user_raw_Q1_subset %>%\n",
    "  dplyr::filter(lubridate::month(createdAt) == 09, lubridate::year(createdAt) == 2019) %>%\n",
    "   nrow()\n",
    "\n",
    " num_user_logInAfterSep2021_signedUpInSep2019 # answer to Q2Part-2 = 209 users\n"
   ]
  },
  {
   "cell_type": "markdown",
   "metadata": {},
   "source": [
    "&nbsp;\n",
    "\n",
    "**Answer 1 (part 1)**: `num_users_log_in_after_sep2021` = **10,323** users have logged in after 1st September 2021, till date.\n",
    "\n",
    "&nbsp;\n",
    "\n",
    "**Answer 1 (part 2)**: Of the `num_users_log_in_after_sep2021` = **10,323** users from part 1 above, ` num_user_logInAfterSep2021_signedUpInSep2019` = **209** users have signed up in September 2019.\n",
    "\n",
    "&nbsp;\n",
    "\n",
    "* Please Note: In the absence of a data dictionary describing what each column means, I have made the following assumptions about the columns in the **customer_users_raw** dataset: I have assumed that  the **createdAt** column in the corresponds to the sign_up date column, and the **lastLogin** corresponds to the login column. This might seem obvious, but it is still worth mentioning.\n",
    "\n",
    "&nbsp;\n",
    "\n",
    "<hr>\n",
    "\n",
    "### Code and answer for Q2\n",
    "\n",
    "&nbsp;\n",
    "\n",
    "#### **Question 2:** How many users have earned points more than 2000?\n",
    "\n",
    "&nbsp;\n"
   ]
  },
  {
   "cell_type": "code",
   "execution_count": 14,
   "metadata": {},
   "outputs": [
    {
     "data": {
      "text/html": [
       "0"
      ],
      "text/latex": [
       "0"
      ],
      "text/markdown": [
       "0"
      ],
      "text/plain": [
       "[1] 0"
      ]
     },
     "metadata": {},
     "output_type": "display_data"
    },
    {
     "data": {
      "text/html": [
       "1261"
      ],
      "text/latex": [
       "1261"
      ],
      "text/markdown": [
       "1261"
      ],
      "text/plain": [
       "[1] 1261"
      ]
     },
     "metadata": {},
     "output_type": "display_data"
    }
   ],
   "source": [
    "# sanity check\n",
    "sum(is.na(customer_user_raw$earnedPoints))\n",
    "\n",
    "# Number of users who have earnedPoints more than 2000\n",
    "num_users_earned_points_more_than_2000 <- customer_user_raw %>%\n",
    "  dplyr::filter(earnedPoints > 2000) %>% \n",
    "  distinct() %>%\n",
    "  nrow()                          \n",
    "\n",
    " num_users_earned_points_more_than_2000            # answer to Q2 = 1261\n"
   ]
  },
  {
   "cell_type": "markdown",
   "metadata": {},
   "source": [
    "&nbsp;\n",
    "\n",
    "#### **Answer 2:** `r num_users_earned_points_more_than_2000` = 1261 users have earned points more than 2000.\n",
    "\n",
    "&nbsp;\n",
    "\n",
    "<hr>\n",
    "\n",
    "### Code and answer for Q3\n",
    "\n",
    "&nbsp;\n",
    "\n",
    "#### **Question 3: ** From which stores has customer id ‘83’ scanned bills in February 2020?\n",
    "\n",
    "&nbsp;\n"
   ]
  },
  {
   "cell_type": "code",
   "execution_count": 15,
   "metadata": {},
   "outputs": [],
   "source": [
    "customer_scans_raw_Q3_subset <- customer_scans_raw %>%\n",
    "  filter(customerId == 83, lubridate::month(createdAt) == 02, \n",
    "         lubridate::year(createdAt) == 2020) %>%\n",
    "  dplyr::select(customerId, storeName, createdAt, image) %>%\n",
    "  dplyr::group_by(storeName) %>%\n",
    "  dplyr::summarise(numBillsScanned = length(unique(image))) %>%\n",
    "  dplyr::mutate(customerId = 83, month = \"February, 2020\") %>%\n",
    "  dplyr::select(customerId, everything())\n"
   ]
  },
  {
   "cell_type": "markdown",
   "metadata": {},
   "source": [
    "&nbsp;\n",
    "\n",
    "#### **Answer to Q3:** Below is a table, which lists the stores from which customer id \"83\" scanned bills in February, 2020. It also lists the total number of unique bills scanned by customer Id \"83\" for each store. This information is useful in case more than one bill is scanned per store. \n",
    "\n",
    "&nbsp;\n"
   ]
  },
  {
   "cell_type": "code",
   "execution_count": 16,
   "metadata": {},
   "outputs": [
    {
     "data": {
      "text/html": [
       "<table>\n",
       "<thead><tr><th scope=col>customerId</th><th scope=col>storeName</th><th scope=col>numBillsScanned</th><th scope=col>month</th></tr></thead>\n",
       "<tbody>\n",
       "\t<tr><td>83            </td><td>Archies       </td><td>2             </td><td>February, 2020</td></tr>\n",
       "\t<tr><td>83            </td><td>Big Bazaar    </td><td>2             </td><td>February, 2020</td></tr>\n",
       "\t<tr><td>83            </td><td>Bombaysthan   </td><td>1             </td><td>February, 2020</td></tr>\n",
       "\t<tr><td>83            </td><td>Da Milano     </td><td>2             </td><td>February, 2020</td></tr>\n",
       "\t<tr><td>83            </td><td>Galito's      </td><td>3             </td><td>February, 2020</td></tr>\n",
       "\t<tr><td>83            </td><td>Kobe Sizzlers </td><td>1             </td><td>February, 2020</td></tr>\n",
       "</tbody>\n",
       "</table>\n"
      ],
      "text/latex": [
       "\\begin{tabular}{r|llll}\n",
       " customerId & storeName & numBillsScanned & month\\\\\n",
       "\\hline\n",
       "\t 83             & Archies        & 2              & February, 2020\\\\\n",
       "\t 83             & Big Bazaar     & 2              & February, 2020\\\\\n",
       "\t 83             & Bombaysthan    & 1              & February, 2020\\\\\n",
       "\t 83             & Da Milano      & 2              & February, 2020\\\\\n",
       "\t 83             & Galito's       & 3              & February, 2020\\\\\n",
       "\t 83             & Kobe Sizzlers  & 1              & February, 2020\\\\\n",
       "\\end{tabular}\n"
      ],
      "text/markdown": [
       "\n",
       "| customerId | storeName | numBillsScanned | month |\n",
       "|---|---|---|---|\n",
       "| 83             | Archies        | 2              | February, 2020 |\n",
       "| 83             | Big Bazaar     | 2              | February, 2020 |\n",
       "| 83             | Bombaysthan    | 1              | February, 2020 |\n",
       "| 83             | Da Milano      | 2              | February, 2020 |\n",
       "| 83             | Galito's       | 3              | February, 2020 |\n",
       "| 83             | Kobe Sizzlers  | 1              | February, 2020 |\n",
       "\n"
      ],
      "text/plain": [
       "  customerId storeName     numBillsScanned month         \n",
       "1 83         Archies       2               February, 2020\n",
       "2 83         Big Bazaar    2               February, 2020\n",
       "3 83         Bombaysthan   1               February, 2020\n",
       "4 83         Da Milano     2               February, 2020\n",
       "5 83         Galito's      3               February, 2020\n",
       "6 83         Kobe Sizzlers 1               February, 2020"
      ]
     },
     "metadata": {},
     "output_type": "display_data"
    }
   ],
   "source": [
    "customer_scans_raw_Q3_subset\n",
    "\n"
   ]
  },
  {
   "cell_type": "markdown",
   "metadata": {},
   "source": [
    "&nbsp;\n",
    "\n",
    "* Please Note: In the absence of a data dictionary describing what each column  means, I have made the following assumptions about the columns in the  **customer_scans_raw** dataset: I have assumed that  the **createdAt** column \n",
    "in this dataset corresponds to the date at which the scan was created, and the  **billDate** column corresponds to date on which the bill was generated. Also, there is a date within the image file names, because we do not know, what\n",
    "that date represents, I haven't extracted or used it.\n",
    "\n",
    "&nbsp;\n",
    "\n",
    "<hr>\n",
    "\n",
    "### Code and answer for Q4 \n",
    "\n",
    "&nbsp;\n",
    "\n",
    "#### **Question 4**: How many unique users unlocked coupons on 10th September 2020?\n",
    "\n",
    "&nbsp;\n"
   ]
  },
  {
   "cell_type": "code",
   "execution_count": 17,
   "metadata": {},
   "outputs": [],
   "source": [
    "# creating a coupon_transactions_raw with duplicate rows removed\n",
    "coupon_transactions_raw_unique <- coupon_transactions_raw[!duplicated(coupon_transactions_raw), ]\n",
    "\n",
    "# dataset for unique users who unlocked coupons on 10th September 2020\n",
    "coupon_transactions_raw_Q4_subset <- coupon_transactions_raw_unique %>%\n",
    "  filter(couponUnlockDate == lubridate::as_datetime(\"2020-09-10\")) %>%\n",
    "  group_by(customerId) %>%\n",
    "  summarise(numUniqueCouponsUnlocked = length(unique(couponId))) %>%\n",
    "  mutate(dateOnWhichCouponUnlocked = \"September 10, 2020\")\n",
    "\n",
    "# number of unique users who unlocked coupons on 10th September 2020\n",
    "num_unique_users_unlocked_coupons_on_Sep102020 <- \n",
    "  nrow(coupon_transactions_raw_Q4_subset)     # answer to Q4 = 34 unique users.\n"
   ]
  },
  {
   "cell_type": "code",
   "execution_count": 41,
   "metadata": {},
   "outputs": [
    {
     "data": {
      "text/html": [
       "34"
      ],
      "text/latex": [
       "34"
      ],
      "text/markdown": [
       "34"
      ],
      "text/plain": [
       "[1] 34"
      ]
     },
     "metadata": {},
     "output_type": "display_data"
    }
   ],
   "source": [
    "num_unique_users_unlocked_coupons_on_Sep102020"
   ]
  },
  {
   "cell_type": "markdown",
   "metadata": {},
   "source": [
    "&nbsp;\n",
    "\n",
    "**Answer to Q4:** `num_unique_users_unlocked_coupons_on_Sep102020` = **34** unique users unlocked coupons on September 10, 2021. Below presented is a table that lists these unique users and also shows the number of unique coupons unlocked by each one of them on September 10, 2021.\n",
    "\n",
    "&nbsp;\n"
   ]
  },
  {
   "cell_type": "code",
   "execution_count": 18,
   "metadata": {},
   "outputs": [
    {
     "data": {
      "text/html": [
       "<table>\n",
       "<thead><tr><th scope=col>customerId</th><th scope=col>numUniqueCouponsUnlocked</th><th scope=col>dateOnWhichCouponUnlocked</th></tr></thead>\n",
       "<tbody>\n",
       "\t<tr><td>   74             </td><td>1                 </td><td>September 10, 2020</td></tr>\n",
       "\t<tr><td>  481             </td><td>1                 </td><td>September 10, 2020</td></tr>\n",
       "\t<tr><td>  805             </td><td>1                 </td><td>September 10, 2020</td></tr>\n",
       "\t<tr><td> 1005             </td><td>3                 </td><td>September 10, 2020</td></tr>\n",
       "\t<tr><td> 1196             </td><td>1                 </td><td>September 10, 2020</td></tr>\n",
       "\t<tr><td> 2004             </td><td>1                 </td><td>September 10, 2020</td></tr>\n",
       "\t<tr><td> 2076             </td><td>1                 </td><td>September 10, 2020</td></tr>\n",
       "\t<tr><td> 3280             </td><td>1                 </td><td>September 10, 2020</td></tr>\n",
       "\t<tr><td> 4650             </td><td>1                 </td><td>September 10, 2020</td></tr>\n",
       "\t<tr><td> 4680             </td><td>1                 </td><td>September 10, 2020</td></tr>\n",
       "\t<tr><td> 4851             </td><td>1                 </td><td>September 10, 2020</td></tr>\n",
       "\t<tr><td> 4865             </td><td>1                 </td><td>September 10, 2020</td></tr>\n",
       "\t<tr><td> 5181             </td><td>1                 </td><td>September 10, 2020</td></tr>\n",
       "\t<tr><td> 7061             </td><td>1                 </td><td>September 10, 2020</td></tr>\n",
       "\t<tr><td> 7097             </td><td>1                 </td><td>September 10, 2020</td></tr>\n",
       "\t<tr><td>10447             </td><td>1                 </td><td>September 10, 2020</td></tr>\n",
       "\t<tr><td>12318             </td><td>1                 </td><td>September 10, 2020</td></tr>\n",
       "\t<tr><td>18987             </td><td>1                 </td><td>September 10, 2020</td></tr>\n",
       "\t<tr><td>22866             </td><td>1                 </td><td>September 10, 2020</td></tr>\n",
       "\t<tr><td>25761             </td><td>1                 </td><td>September 10, 2020</td></tr>\n",
       "\t<tr><td>25892             </td><td>1                 </td><td>September 10, 2020</td></tr>\n",
       "\t<tr><td>26682             </td><td>1                 </td><td>September 10, 2020</td></tr>\n",
       "\t<tr><td>35884             </td><td>1                 </td><td>September 10, 2020</td></tr>\n",
       "\t<tr><td>36463             </td><td>1                 </td><td>September 10, 2020</td></tr>\n",
       "\t<tr><td>37809             </td><td>1                 </td><td>September 10, 2020</td></tr>\n",
       "\t<tr><td>40574             </td><td>4                 </td><td>September 10, 2020</td></tr>\n",
       "\t<tr><td>41444             </td><td>1                 </td><td>September 10, 2020</td></tr>\n",
       "\t<tr><td>41803             </td><td>1                 </td><td>September 10, 2020</td></tr>\n",
       "\t<tr><td>42110             </td><td>1                 </td><td>September 10, 2020</td></tr>\n",
       "\t<tr><td>49281             </td><td>1                 </td><td>September 10, 2020</td></tr>\n",
       "\t<tr><td>51321             </td><td>1                 </td><td>September 10, 2020</td></tr>\n",
       "\t<tr><td>60799             </td><td>1                 </td><td>September 10, 2020</td></tr>\n",
       "\t<tr><td>62093             </td><td>1                 </td><td>September 10, 2020</td></tr>\n",
       "\t<tr><td>62807             </td><td>1                 </td><td>September 10, 2020</td></tr>\n",
       "</tbody>\n",
       "</table>\n"
      ],
      "text/latex": [
       "\\begin{tabular}{r|lll}\n",
       " customerId & numUniqueCouponsUnlocked & dateOnWhichCouponUnlocked\\\\\n",
       "\\hline\n",
       "\t    74              & 1                  & September 10, 2020\\\\\n",
       "\t   481              & 1                  & September 10, 2020\\\\\n",
       "\t   805              & 1                  & September 10, 2020\\\\\n",
       "\t  1005              & 3                  & September 10, 2020\\\\\n",
       "\t  1196              & 1                  & September 10, 2020\\\\\n",
       "\t  2004              & 1                  & September 10, 2020\\\\\n",
       "\t  2076              & 1                  & September 10, 2020\\\\\n",
       "\t  3280              & 1                  & September 10, 2020\\\\\n",
       "\t  4650              & 1                  & September 10, 2020\\\\\n",
       "\t  4680              & 1                  & September 10, 2020\\\\\n",
       "\t  4851              & 1                  & September 10, 2020\\\\\n",
       "\t  4865              & 1                  & September 10, 2020\\\\\n",
       "\t  5181              & 1                  & September 10, 2020\\\\\n",
       "\t  7061              & 1                  & September 10, 2020\\\\\n",
       "\t  7097              & 1                  & September 10, 2020\\\\\n",
       "\t 10447              & 1                  & September 10, 2020\\\\\n",
       "\t 12318              & 1                  & September 10, 2020\\\\\n",
       "\t 18987              & 1                  & September 10, 2020\\\\\n",
       "\t 22866              & 1                  & September 10, 2020\\\\\n",
       "\t 25761              & 1                  & September 10, 2020\\\\\n",
       "\t 25892              & 1                  & September 10, 2020\\\\\n",
       "\t 26682              & 1                  & September 10, 2020\\\\\n",
       "\t 35884              & 1                  & September 10, 2020\\\\\n",
       "\t 36463              & 1                  & September 10, 2020\\\\\n",
       "\t 37809              & 1                  & September 10, 2020\\\\\n",
       "\t 40574              & 4                  & September 10, 2020\\\\\n",
       "\t 41444              & 1                  & September 10, 2020\\\\\n",
       "\t 41803              & 1                  & September 10, 2020\\\\\n",
       "\t 42110              & 1                  & September 10, 2020\\\\\n",
       "\t 49281              & 1                  & September 10, 2020\\\\\n",
       "\t 51321              & 1                  & September 10, 2020\\\\\n",
       "\t 60799              & 1                  & September 10, 2020\\\\\n",
       "\t 62093              & 1                  & September 10, 2020\\\\\n",
       "\t 62807              & 1                  & September 10, 2020\\\\\n",
       "\\end{tabular}\n"
      ],
      "text/markdown": [
       "\n",
       "| customerId | numUniqueCouponsUnlocked | dateOnWhichCouponUnlocked |\n",
       "|---|---|---|\n",
       "|    74              | 1                  | September 10, 2020 |\n",
       "|   481              | 1                  | September 10, 2020 |\n",
       "|   805              | 1                  | September 10, 2020 |\n",
       "|  1005              | 3                  | September 10, 2020 |\n",
       "|  1196              | 1                  | September 10, 2020 |\n",
       "|  2004              | 1                  | September 10, 2020 |\n",
       "|  2076              | 1                  | September 10, 2020 |\n",
       "|  3280              | 1                  | September 10, 2020 |\n",
       "|  4650              | 1                  | September 10, 2020 |\n",
       "|  4680              | 1                  | September 10, 2020 |\n",
       "|  4851              | 1                  | September 10, 2020 |\n",
       "|  4865              | 1                  | September 10, 2020 |\n",
       "|  5181              | 1                  | September 10, 2020 |\n",
       "|  7061              | 1                  | September 10, 2020 |\n",
       "|  7097              | 1                  | September 10, 2020 |\n",
       "| 10447              | 1                  | September 10, 2020 |\n",
       "| 12318              | 1                  | September 10, 2020 |\n",
       "| 18987              | 1                  | September 10, 2020 |\n",
       "| 22866              | 1                  | September 10, 2020 |\n",
       "| 25761              | 1                  | September 10, 2020 |\n",
       "| 25892              | 1                  | September 10, 2020 |\n",
       "| 26682              | 1                  | September 10, 2020 |\n",
       "| 35884              | 1                  | September 10, 2020 |\n",
       "| 36463              | 1                  | September 10, 2020 |\n",
       "| 37809              | 1                  | September 10, 2020 |\n",
       "| 40574              | 4                  | September 10, 2020 |\n",
       "| 41444              | 1                  | September 10, 2020 |\n",
       "| 41803              | 1                  | September 10, 2020 |\n",
       "| 42110              | 1                  | September 10, 2020 |\n",
       "| 49281              | 1                  | September 10, 2020 |\n",
       "| 51321              | 1                  | September 10, 2020 |\n",
       "| 60799              | 1                  | September 10, 2020 |\n",
       "| 62093              | 1                  | September 10, 2020 |\n",
       "| 62807              | 1                  | September 10, 2020 |\n",
       "\n"
      ],
      "text/plain": [
       "   customerId numUniqueCouponsUnlocked dateOnWhichCouponUnlocked\n",
       "1     74      1                        September 10, 2020       \n",
       "2    481      1                        September 10, 2020       \n",
       "3    805      1                        September 10, 2020       \n",
       "4   1005      3                        September 10, 2020       \n",
       "5   1196      1                        September 10, 2020       \n",
       "6   2004      1                        September 10, 2020       \n",
       "7   2076      1                        September 10, 2020       \n",
       "8   3280      1                        September 10, 2020       \n",
       "9   4650      1                        September 10, 2020       \n",
       "10  4680      1                        September 10, 2020       \n",
       "11  4851      1                        September 10, 2020       \n",
       "12  4865      1                        September 10, 2020       \n",
       "13  5181      1                        September 10, 2020       \n",
       "14  7061      1                        September 10, 2020       \n",
       "15  7097      1                        September 10, 2020       \n",
       "16 10447      1                        September 10, 2020       \n",
       "17 12318      1                        September 10, 2020       \n",
       "18 18987      1                        September 10, 2020       \n",
       "19 22866      1                        September 10, 2020       \n",
       "20 25761      1                        September 10, 2020       \n",
       "21 25892      1                        September 10, 2020       \n",
       "22 26682      1                        September 10, 2020       \n",
       "23 35884      1                        September 10, 2020       \n",
       "24 36463      1                        September 10, 2020       \n",
       "25 37809      1                        September 10, 2020       \n",
       "26 40574      4                        September 10, 2020       \n",
       "27 41444      1                        September 10, 2020       \n",
       "28 41803      1                        September 10, 2020       \n",
       "29 42110      1                        September 10, 2020       \n",
       "30 49281      1                        September 10, 2020       \n",
       "31 51321      1                        September 10, 2020       \n",
       "32 60799      1                        September 10, 2020       \n",
       "33 62093      1                        September 10, 2020       \n",
       "34 62807      1                        September 10, 2020       "
      ]
     },
     "metadata": {},
     "output_type": "display_data"
    }
   ],
   "source": [
    "# summary table\n",
    "coupon_transactions_raw_Q4_subset\n"
   ]
  },
  {
   "cell_type": "markdown",
   "metadata": {},
   "source": [
    "&nbsp;\n",
    "\n",
    "<hr>\n",
    "\n",
    "### Code and answer for Q5\n",
    "\n",
    "&nbsp;\n",
    "\n",
    "**Question 5:** Create a pivot table as mentioned in the question description in the [Question PDF file](https://github.com/AarshBatra/UnifyndInterviewAssessment/blob/master/Interview%20Assignment%20_%20Data%20Analytics.pdf)\n",
    "\n",
    "&nbsp;\n",
    "\n"
   ]
  },
  {
   "cell_type": "code",
   "execution_count": 19,
   "metadata": {},
   "outputs": [
    {
     "data": {
      "text/html": [
       "27580"
      ],
      "text/latex": [
       "27580"
      ],
      "text/markdown": [
       "27580"
      ],
      "text/plain": [
       "[1] 27580"
      ]
     },
     "metadata": {},
     "output_type": "display_data"
    },
    {
     "data": {
      "text/html": [
       "66471"
      ],
      "text/latex": [
       "66471"
      ],
      "text/markdown": [
       "66471"
      ],
      "text/plain": [
       "[1] 66471"
      ]
     },
     "metadata": {},
     "output_type": "display_data"
    },
    {
     "data": {
      "text/html": [
       "27580"
      ],
      "text/latex": [
       "27580"
      ],
      "text/markdown": [
       "27580"
      ],
      "text/plain": [
       "[1] 27580"
      ]
     },
     "metadata": {},
     "output_type": "display_data"
    }
   ],
   "source": [
    "# sanity checks (for understanding purposes only, these sanity check variables\n",
    "# are not used in code)\n",
    "foo <- dplyr::left_join(x = coupon_transactions_raw, y = customer_user_raw, by = c(\"customerId\" = \"customerId\"))\n",
    "sum(coupon_transactions_raw$customerId %in% customer_user_raw$customerId)\n",
    "sum(!(customer_user_raw$customerId %in% coupon_transactions_raw$customerId))        \n",
    "\n",
    "foo1Ind <- customer_user_raw$customerId %in% coupon_transactions_raw$customerId\n",
    "foo1Val <- customer_user_raw$customerId[foo1Ind]\n",
    "nrow(filter(coupon_transactions_raw, customerId %in% foo1Val))\n",
    "\n",
    "\n",
    "# First: left_join the \"customer_user_raw\" and \"coupon_transaction_raw_unique\" data by the \"customerId\" column as a KEY\n",
    "\n",
    "customer_user_coupon_join_Q5 <- dplyr::left_join(x = customer_user_raw, y = coupon_transactions_raw_unique, by = \"customerId\")\n",
    "\n",
    "# removing duplicate rows\n",
    "customer_user_coupon_join_Q5_unique <-  customer_user_coupon_join_Q5[!duplicated(customer_user_coupon_join_Q5), ]\n",
    "\n",
    "# create Pivot table, by using tierId  as the \"group\" column\n",
    "pivot_table_by_tier_Q5 <- customer_user_coupon_join_Q5_unique %>%\n",
    "  dplyr::group_by(tierId) %>%\n",
    "  dplyr::summarise(numUniqueUsersInEachTier = length(unique(customerId)),\n",
    "            totalCouponsUnlocked = sum(!is.na(couponUnlockDate)),\n",
    "            averageEarnedPoints = mean(earnedPoints, na.rm = TRUE), \n",
    "            averageBurnedPoints = mean(burnedPoints, na.rm = TRUE))\n"
   ]
  },
  {
   "cell_type": "markdown",
   "metadata": {},
   "source": [
    "&nbsp;\n",
    "\n",
    "#### **Answer 5:** Pivot Table for Q5\n",
    "\n",
    "&nbsp;\n"
   ]
  },
  {
   "cell_type": "code",
   "execution_count": 20,
   "metadata": {},
   "outputs": [
    {
     "data": {
      "text/html": [
       "<table>\n",
       "<thead><tr><th scope=col>tierId</th><th scope=col>numUniqueUsersInEachTier</th><th scope=col>totalCouponsUnlocked</th><th scope=col>averageEarnedPoints</th><th scope=col>averageBurnedPoints</th></tr></thead>\n",
       "<tbody>\n",
       "\t<tr><td>1           </td><td>78690       </td><td>18673       </td><td>    90.13102</td><td>   15.83016 </td></tr>\n",
       "\t<tr><td>2           </td><td> 2546       </td><td> 5926       </td><td>  3107.24155</td><td> 1119.41087 </td></tr>\n",
       "\t<tr><td>3           </td><td>  206       </td><td> 1905       </td><td> 18259.31304</td><td> 9917.23868 </td></tr>\n",
       "\t<tr><td>4           </td><td>    5       </td><td>   69       </td><td> 54146.63486</td><td>10389.42857 </td></tr>\n",
       "\t<tr><td>5           </td><td>    3       </td><td>   24       </td><td>115006.59600</td><td> 2822.04000 </td></tr>\n",
       "</tbody>\n",
       "</table>\n"
      ],
      "text/latex": [
       "\\begin{tabular}{r|lllll}\n",
       " tierId & numUniqueUsersInEachTier & totalCouponsUnlocked & averageEarnedPoints & averageBurnedPoints\\\\\n",
       "\\hline\n",
       "\t 1            & 78690        & 18673        &     90.13102 &    15.83016 \\\\\n",
       "\t 2            &  2546        &  5926        &   3107.24155 &  1119.41087 \\\\\n",
       "\t 3            &   206        &  1905        &  18259.31304 &  9917.23868 \\\\\n",
       "\t 4            &     5        &    69        &  54146.63486 & 10389.42857 \\\\\n",
       "\t 5            &     3        &    24        & 115006.59600 &  2822.04000 \\\\\n",
       "\\end{tabular}\n"
      ],
      "text/markdown": [
       "\n",
       "| tierId | numUniqueUsersInEachTier | totalCouponsUnlocked | averageEarnedPoints | averageBurnedPoints |\n",
       "|---|---|---|---|---|\n",
       "| 1            | 78690        | 18673        |     90.13102 |    15.83016  |\n",
       "| 2            |  2546        |  5926        |   3107.24155 |  1119.41087  |\n",
       "| 3            |   206        |  1905        |  18259.31304 |  9917.23868  |\n",
       "| 4            |     5        |    69        |  54146.63486 | 10389.42857  |\n",
       "| 5            |     3        |    24        | 115006.59600 |  2822.04000  |\n",
       "\n"
      ],
      "text/plain": [
       "  tierId numUniqueUsersInEachTier totalCouponsUnlocked averageEarnedPoints\n",
       "1 1      78690                    18673                    90.13102       \n",
       "2 2       2546                     5926                  3107.24155       \n",
       "3 3        206                     1905                 18259.31304       \n",
       "4 4          5                       69                 54146.63486       \n",
       "5 5          3                       24                115006.59600       \n",
       "  averageBurnedPoints\n",
       "1    15.83016        \n",
       "2  1119.41087        \n",
       "3  9917.23868        \n",
       "4 10389.42857        \n",
       "5  2822.04000        "
      ]
     },
     "metadata": {},
     "output_type": "display_data"
    }
   ],
   "source": [
    "pivot_table_by_tier_Q5\n",
    "\n"
   ]
  },
  {
   "cell_type": "markdown",
   "metadata": {},
   "source": [
    "&nbsp;\n",
    "\n",
    "<hr>\n",
    "\n",
    "### Code and answer for Q6\n",
    "\n",
    "**Question 6:** Create a cohort of users with the following conditions (Scan Count > 4 && Coupon Transaction Count > 2) and answer the following questions:\n",
    "\n",
    "   1. What’s the tier distribution of these users?\n",
    "   2. What’s the gender distribution of these users?\n",
    "   3. Which 5 stores have these users scanned the most from?\n",
    "   4. Which source has the most users coming from in this cohort?\n",
    "   5. Observe the behaviour of this cohort and write your observations and \n",
    "       insights.\n",
    "\n",
    "&nbsp;\n",
    "\n",
    "#### Getting the number and id's of customers that belong to the cohort whose scanCount > 4 and couponTransactionCount > 2\n",
    "\n",
    "&nbsp;\n",
    "       \n"
   ]
  },
  {
   "cell_type": "code",
   "execution_count": 21,
   "metadata": {},
   "outputs": [],
   "source": [
    "# get a vector of customerId's that satisfy the cohort conditions--------------\n",
    "  \n",
    "# customers with scan count > 4\n",
    "customer_scans_raw_Q6_subset <- customer_scans_raw %>%\n",
    "group_by(customerId) %>%\n",
    "summarise(scanCount = sum(!is.na(unique(scanlogId)))) %>%\n",
    "filter(scanCount > 4) \n",
    "\n",
    "# removing duplicates\n",
    "customer_scans_raw_Q6_subset_unique <- customer_scans_raw_Q6_subset[\n",
    "  !duplicated(customer_scans_raw_Q6_subset), ]\n",
    "\n",
    "# For the customers whose scan count is greater than 4, select those whose\n",
    "# coupon transaction count > 2.\n",
    "\n",
    "# creating a subset of data that corresponds to those customers whose \n",
    "# scan count > 4\n",
    "coupon_transactions_raw_Q6_subset <- coupon_transactions_raw %>%\n",
    "  filter(customerId %in% customer_scans_raw_Q6_subset_unique$customerId) \n",
    "\n",
    "# removing any duplicate rows\n",
    "coupon_transactions_raw_Q6_subset_unique <-  coupon_transactions_raw_Q6_subset[!duplicated\n",
    "            (coupon_transactions_raw_Q6_subset), ]\n",
    "\n",
    "# dataset containing customers whose \"scanCount\" > 4 and couponTransactionCount\n",
    "# is > 2\n",
    "coupon_transactions_raw_Q6_subset_unique_finCohort <- coupon_transactions_raw_Q6_subset_unique %>% \n",
    "  group_by(customerId) %>%\n",
    "  summarise(couponTransactionCount = sum(!is.na(couponUnlockDate))) %>%\n",
    "  filter(couponTransactionCount > 2)\n",
    "\n",
    "# putting the cohort customers (that satisfy the cohort definition) into a \n",
    "# vector\n",
    "\n",
    "cohort_customers <- coupon_transactions_raw_Q6_subset_unique_finCohort$customerId\n"
   ]
  },
  {
   "cell_type": "markdown",
   "metadata": {},
   "source": [
    "&nbsp;\n",
    "\n",
    "* Given the above calculations, **the cohort whose scanCount > 4 and couponTransactionCount > 2**, contain a total of `length(cohort_customers)` = **557** customers. These customers are stored in the vector named `cohort_customers`. Now, I will use this information to answer parts 1 to 5 of Q6. For each part, I will first present the code and then its answer (figure/table/etc).\n",
    "\n",
    "&nbsp;\n",
    "\n",
    "<hr>\n",
    "\n",
    "**Code and Answer to Question 6: Part-1**\n",
    "\n",
    "&nbsp;\n",
    "\n",
    "#### **Q6(Part-1):** What is the tier distribution of Cohort users?\n",
    "\n",
    "&nbsp;\n"
   ]
  },
  {
   "cell_type": "code",
   "execution_count": 23,
   "metadata": {},
   "outputs": [],
   "source": [
    "# making sure that we are only using users that satisfy cohort definition\n",
    "tier_dist_cohort_users <- customer_user_raw %>%\n",
    "  filter(customerId %in% cohort_customers) \n",
    "\n",
    "# removing duplicate rows (if any)\n",
    "tier_dist_cohort_users <- tier_dist_cohort_users[!duplicated(tier_dist_cohort_users), ]\n",
    "\n",
    "# grouping and summarising by tierId\n",
    "tier_dist_cohort_users <- tier_dist_cohort_users %>%\n",
    "  group_by(tierId) %>%\n",
    "  summarise(countOfUsers = n()) %>%\n",
    "  mutate(percentOfUsers = (countOfUsers/sum(countOfUsers, na.rm = TRUE))*100)\n",
    "\n",
    "# plot: tier distribution of cohort users  \n",
    "tier_dist_cohort_users_plot <-  tier_dist_cohort_users %>%\n",
    "  ggplot(mapping = aes(x = tierId, y = countOfUsers)) +\n",
    "  geom_col(width = 0.5) +\n",
    "  scale_y_continuous(breaks = seq(0, 500, by = 30)) +\n",
    "  geom_text(mapping = aes(label = countOfUsers), position=position_dodge(width=0.9), vjust=-0.25) + ggtitle(\"Tier distribution of Cohort users\") +\n",
    "  theme_minimal() +\n",
    "  theme(plot.title = element_text(hjust = 0.5))\n"
   ]
  },
  {
   "cell_type": "markdown",
   "metadata": {},
   "source": [
    "&nbsp;\n",
    "\n",
    "#### **Answer: Q6(Part-1):** Below is a table and a bar graph of of the tier distribution of cohort users\n",
    "\n",
    "&nbsp;\n"
   ]
  },
  {
   "cell_type": "code",
   "execution_count": 24,
   "metadata": {},
   "outputs": [
    {
     "data": {
      "text/html": [
       "<table>\n",
       "<thead><tr><th scope=col>tierId</th><th scope=col>countOfUsers</th><th scope=col>percentOfUsers</th></tr></thead>\n",
       "<tbody>\n",
       "\t<tr><td>1         </td><td> 65       </td><td>11.6696589</td></tr>\n",
       "\t<tr><td>2         </td><td>422       </td><td>75.7630162</td></tr>\n",
       "\t<tr><td>3         </td><td> 67       </td><td>12.0287253</td></tr>\n",
       "\t<tr><td>4         </td><td>  2       </td><td> 0.3590664</td></tr>\n",
       "\t<tr><td>5         </td><td>  1       </td><td> 0.1795332</td></tr>\n",
       "</tbody>\n",
       "</table>\n"
      ],
      "text/latex": [
       "\\begin{tabular}{r|lll}\n",
       " tierId & countOfUsers & percentOfUsers\\\\\n",
       "\\hline\n",
       "\t 1          &  65        & 11.6696589\\\\\n",
       "\t 2          & 422        & 75.7630162\\\\\n",
       "\t 3          &  67        & 12.0287253\\\\\n",
       "\t 4          &   2        &  0.3590664\\\\\n",
       "\t 5          &   1        &  0.1795332\\\\\n",
       "\\end{tabular}\n"
      ],
      "text/markdown": [
       "\n",
       "| tierId | countOfUsers | percentOfUsers |\n",
       "|---|---|---|\n",
       "| 1          |  65        | 11.6696589 |\n",
       "| 2          | 422        | 75.7630162 |\n",
       "| 3          |  67        | 12.0287253 |\n",
       "| 4          |   2        |  0.3590664 |\n",
       "| 5          |   1        |  0.1795332 |\n",
       "\n"
      ],
      "text/plain": [
       "  tierId countOfUsers percentOfUsers\n",
       "1 1       65          11.6696589    \n",
       "2 2      422          75.7630162    \n",
       "3 3       67          12.0287253    \n",
       "4 4        2           0.3590664    \n",
       "5 5        1           0.1795332    "
      ]
     },
     "metadata": {},
     "output_type": "display_data"
    },
    {
     "data": {
      "image/png": "[encoded data removed]",
      "text/plain": [
       "plot without title"
      ]
     },
     "metadata": {},
     "output_type": "display_data"
    }
   ],
   "source": [
    "# plot: tier distribution of cohort users\n",
    "tier_dist_cohort_users_plot\n",
    "\n",
    "# Table: tier distribution of cohort users\n",
    "tier_dist_cohort_users\n"
   ]
  },
  {
   "cell_type": "markdown",
   "metadata": {},
   "source": [
    "&nbsp;\n",
    "\n",
    "<hr>\n",
    "\n",
    "**Q6(Part-2):** What the gender distribution of Cohort users?\n",
    "\n",
    "&nbsp;\n"
   ]
  },
  {
   "cell_type": "code",
   "execution_count": 25,
   "metadata": {},
   "outputs": [],
   "source": [
    "# making sure that we are only using users that satisfy cohort definition\n",
    "gender_dist_cohort_users <- customer_user_raw %>%\n",
    "  filter(customerId %in% cohort_customers) \n",
    "\n",
    "# removing duplicate rows (if any)\n",
    "gender_dist_cohort_users <- gender_dist_cohort_users[!duplicated(gender_dist_cohort_users), ]\n",
    "\n",
    "# grouping and summarising by gender\n",
    "gender_dist_cohort_users <- gender_dist_cohort_users %>%\n",
    "  group_by(gender) %>%\n",
    "  summarise(countOfUsers = n()) %>%\n",
    "  mutate(percentOfUsers = (countOfUsers/sum(countOfUsers, na.rm = TRUE))*100)\n",
    "\n",
    "# plot: gender distribution of cohort users\n",
    "gender_dist_cohort_users_plot <-  gender_dist_cohort_users %>%\n",
    "  ggplot(mapping = aes(x = gender, y = countOfUsers)) +\n",
    "  geom_col(width = 0.5) +\n",
    "  scale_y_continuous(breaks = seq(0, 500, by = 30)) +\n",
    "  geom_text(mapping = aes(label = countOfUsers), position=position_dodge(width=0.9), vjust=-0.25) + ggtitle(\"Gender distribution of Cohort users\") +\n",
    "  theme_minimal() +\n",
    "  theme(plot.title = element_text(hjust = 0.5))\n"
   ]
  },
  {
   "cell_type": "markdown",
   "metadata": {},
   "source": [
    "&nbsp;\n",
    "\n",
    "<hr>\n",
    "\n",
    "**Answer: Q6(Part-2):** Below is a table and a bar graph of of the gender distribution of cohort users.\n",
    "\n",
    "* Please note: In this cohort, of the total `length(cohort_customers)` = **557** users, there are `nrow(customer_user_raw %>% filter(customerId %in% cohort_customers, gender == \"NULL\"))` = **11** users whose value for gender column is \"NULL\" in the dataset. Also, there are `nrow(customer_user_raw %>% filter(customerId %in% cohort_customers, is.na(gender)))`= **80** users whose value for the gender column is \"NA\". In the gender distribution below (both in table and in graph), I have kept them, instead of filtering them out, as it is good to have a visual representation of these missing values.\n",
    "\n",
    "&nbsp;\n"
   ]
  },
  {
   "cell_type": "code",
   "execution_count": 27,
   "metadata": {},
   "outputs": [
    {
     "data": {
      "text/html": [
       "<table>\n",
       "<thead><tr><th scope=col>gender</th><th scope=col>countOfUsers</th><th scope=col>percentOfUsers</th></tr></thead>\n",
       "<tbody>\n",
       "\t<tr><td>NA       </td><td> 80      </td><td>14.362657</td></tr>\n",
       "\t<tr><td>female   </td><td>134      </td><td>24.057451</td></tr>\n",
       "\t<tr><td>male     </td><td>332      </td><td>59.605027</td></tr>\n",
       "\t<tr><td>NULL     </td><td> 11      </td><td> 1.974865</td></tr>\n",
       "</tbody>\n",
       "</table>\n"
      ],
      "text/latex": [
       "\\begin{tabular}{r|lll}\n",
       " gender & countOfUsers & percentOfUsers\\\\\n",
       "\\hline\n",
       "\t NA        &  80       & 14.362657\\\\\n",
       "\t female    & 134       & 24.057451\\\\\n",
       "\t male      & 332       & 59.605027\\\\\n",
       "\t NULL      &  11       &  1.974865\\\\\n",
       "\\end{tabular}\n"
      ],
      "text/markdown": [
       "\n",
       "| gender | countOfUsers | percentOfUsers |\n",
       "|---|---|---|\n",
       "| NA        |  80       | 14.362657 |\n",
       "| female    | 134       | 24.057451 |\n",
       "| male      | 332       | 59.605027 |\n",
       "| NULL      |  11       |  1.974865 |\n",
       "\n"
      ],
      "text/plain": [
       "  gender countOfUsers percentOfUsers\n",
       "1 NA      80          14.362657     \n",
       "2 female 134          24.057451     \n",
       "3 male   332          59.605027     \n",
       "4 NULL    11           1.974865     "
      ]
     },
     "metadata": {},
     "output_type": "display_data"
    },
    {
     "data": {
      "image/png": "[encoded data removed]",
      "text/plain": [
       "plot without title"
      ]
     },
     "metadata": {},
     "output_type": "display_data"
    }
   ],
   "source": [
    "# plot: gender distribution of cohort users\n",
    "gender_dist_cohort_users_plot\n",
    "\n",
    "# table: gender distribution of cohort users\n",
    "gender_dist_cohort_users\n"
   ]
  },
  {
   "cell_type": "markdown",
   "metadata": {},
   "source": [
    "&nbsp;\n",
    "\n",
    "<hr>\n",
    "\n",
    "**Q6(Part-3):** Which 5 stores have these users scanned the most from?\n",
    "\n",
    "&nbsp;\n"
   ]
  },
  {
   "cell_type": "code",
   "execution_count": 28,
   "metadata": {},
   "outputs": [
    {
     "name": "stderr",
     "output_type": "stream",
     "text": [
      "Selecting by scansCount\n"
     ]
    }
   ],
   "source": [
    "# making sure that we are only using users that satisfy cohort definition\n",
    "cohort_users_5_stores_scanned_most_from <- customer_scans_raw %>% \n",
    "  filter(customerId %in% cohort_customers) \n",
    "\n",
    "# removing duplicate rows (if any)\n",
    "cohort_users_5_stores_scanned_most_from <- cohort_users_5_stores_scanned_most_from[!duplicated(cohort_users_5_stores_scanned_most_from), ]\n",
    "\n",
    "# grouping and summarising by Store name\n",
    "cohort_users_5_stores_scanned_most_from <- cohort_users_5_stores_scanned_most_from %>%\n",
    "  group_by(storeName) %>%\n",
    "  summarise(scansCount = n()) %>% \n",
    "  dplyr::top_n(n = 5) %>%\n",
    "  mutate(scansPercentage = (scansCount/sum(scansCount, na.rm = TRUE))*100)\n",
    "\n",
    "\n",
    "\n",
    "# plot: 5 stores the user scanned the most from\n",
    "cohort_stores_top5_scanned_most_plot <-  \n",
    "  cohort_users_5_stores_scanned_most_from %>%\n",
    "  dplyr::arrange(scansCount) %>%\n",
    "  ggplot(mapping = aes(x = storeName, y = scansCount)) +\n",
    "  geom_col(width = 0.5) +\n",
    "  scale_y_continuous(breaks = seq(0, 1800, by = 100)) +\n",
    "  geom_text(mapping = aes(label = scansCount), position=position_dodge(width=0.9), vjust=-0.25) + ggtitle(\"5 stores users scanned most from\") +\n",
    "  theme_minimal() +\n",
    "  theme(plot.title = element_text(hjust = 0.5))\n"
   ]
  },
  {
   "cell_type": "markdown",
   "metadata": {},
   "source": [
    "&nbsp;\n",
    "\n",
    "#### **Answer: Q6(Part-3):** Below is a table and a bar graph for the 5 stores from which the cohort users scanned the most.\n",
    "\n",
    "&nbsp;\n"
   ]
  },
  {
   "cell_type": "code",
   "execution_count": 29,
   "metadata": {},
   "outputs": [
    {
     "data": {
      "text/html": [
       "<table>\n",
       "<thead><tr><th scope=col>storeName</th><th scope=col>scansCount</th><th scope=col>scansPercentage</th></tr></thead>\n",
       "<tbody>\n",
       "\t<tr><td>Big Bazaar</td><td>1634      </td><td>52.607856 </td></tr>\n",
       "\t<tr><td>Latt Liv  </td><td> 355      </td><td>11.429491 </td></tr>\n",
       "\t<tr><td>Lifestyle </td><td> 479      </td><td>15.421764 </td></tr>\n",
       "\t<tr><td>Luxe      </td><td> 395      </td><td>12.717321 </td></tr>\n",
       "\t<tr><td>Miniso    </td><td> 243      </td><td> 7.823567 </td></tr>\n",
       "</tbody>\n",
       "</table>\n"
      ],
      "text/latex": [
       "\\begin{tabular}{r|lll}\n",
       " storeName & scansCount & scansPercentage\\\\\n",
       "\\hline\n",
       "\t Big Bazaar & 1634       & 52.607856 \\\\\n",
       "\t Latt Liv   &  355       & 11.429491 \\\\\n",
       "\t Lifestyle  &  479       & 15.421764 \\\\\n",
       "\t Luxe       &  395       & 12.717321 \\\\\n",
       "\t Miniso     &  243       &  7.823567 \\\\\n",
       "\\end{tabular}\n"
      ],
      "text/markdown": [
       "\n",
       "| storeName | scansCount | scansPercentage |\n",
       "|---|---|---|\n",
       "| Big Bazaar | 1634       | 52.607856  |\n",
       "| Latt Liv   |  355       | 11.429491  |\n",
       "| Lifestyle  |  479       | 15.421764  |\n",
       "| Luxe       |  395       | 12.717321  |\n",
       "| Miniso     |  243       |  7.823567  |\n",
       "\n"
      ],
      "text/plain": [
       "  storeName  scansCount scansPercentage\n",
       "1 Big Bazaar 1634       52.607856      \n",
       "2 Latt Liv    355       11.429491      \n",
       "3 Lifestyle   479       15.421764      \n",
       "4 Luxe        395       12.717321      \n",
       "5 Miniso      243        7.823567      "
      ]
     },
     "metadata": {},
     "output_type": "display_data"
    },
    {
     "data": {
      "image/png": "[encoded data removed]",
      "text/plain": [
       "plot without title"
      ]
     },
     "metadata": {},
     "output_type": "display_data"
    }
   ],
   "source": [
    "# plot: 5 stores customers scanned most from\n",
    "cohort_stores_top5_scanned_most_plot\n",
    "\n",
    "# table: 5 stores customers scanned most from\n",
    "cohort_users_5_stores_scanned_most_from\n"
   ]
  },
  {
   "cell_type": "markdown",
   "metadata": {},
   "source": [
    "&nbsp;\n",
    "\n",
    "<hr>\n",
    "\n",
    "#### **Q6(Part-4):** Which source has the most users coming from in this cohort?\n",
    "\n",
    "&nbsp;\n"
   ]
  },
  {
   "cell_type": "code",
   "execution_count": 30,
   "metadata": {},
   "outputs": [
    {
     "name": "stderr",
     "output_type": "stream",
     "text": [
      "Selecting by userPercentage\n"
     ]
    }
   ],
   "source": [
    "# making sure that we are only using users that satisfy cohort definition\n",
    "cohort_source_users <- customer_user_raw %>% \n",
    "  filter(customerId %in% cohort_customers)\n",
    "\n",
    "# removing duplicate rows (if any)\n",
    "cohort_source_users <- cohort_source_users[!duplicated(cohort_source_users), ]\n",
    "\n",
    "# grouping and summarizing by \"source\" column\n",
    "cohort_source_users <- cohort_source_users %>%\n",
    "  group_by(source) %>%\n",
    "  summarise(userCount = n()) %>%\n",
    "  mutate(userPercentage = (userCount/sum(userCount, na.rm = TRUE))*100)\n",
    "\n",
    "# Answer table for Q6 Part 4: Which source has the most users coming from?\n",
    "cohort_source_most_users_table <- cohort_source_users %>%\n",
    "  dplyr::top_n(n = 5)\n",
    "\n",
    "# plot: Top 5 sources from which most users are coming\n",
    "cohort_source_most_users_table_plot <-  \n",
    "  cohort_source_most_users_table %>%\n",
    "  dplyr::arrange(userCount) %>%\n",
    "  ggplot(mapping = aes(x = source, y = userCount)) +\n",
    "  geom_col(width = 0.5) +\n",
    "  scale_y_continuous(breaks = seq(0, 1800, by = 100)) +\n",
    "  geom_text(mapping = aes(label = userCount), position=position_dodge(width=0.9), vjust=-0.25) + ggtitle(\"Top 5 sources from which most users are coming\") +\n",
    "  theme_minimal() +\n",
    "  theme(plot.title = element_text(hjust = 0.5))\n"
   ]
  },
  {
   "cell_type": "code",
   "execution_count": 31,
   "metadata": {},
   "outputs": [
    {
     "data": {
      "text/html": [
       "433"
      ],
      "text/latex": [
       "433"
      ],
      "text/markdown": [
       "433"
      ],
      "text/plain": [
       "[1] 433"
      ]
     },
     "metadata": {},
     "output_type": "display_data"
    },
    {
     "data": {
      "text/html": [
       "27"
      ],
      "text/latex": [
       "27"
      ],
      "text/markdown": [
       "27"
      ],
      "text/plain": [
       "[1] 27"
      ]
     },
     "metadata": {},
     "output_type": "display_data"
    },
    {
     "data": {
      "text/html": [
       "'NPBPROMO3'"
      ],
      "text/latex": [
       "'NPBPROMO3'"
      ],
      "text/markdown": [
       "'NPBPROMO3'"
      ],
      "text/plain": [
       "[1] \"NPBPROMO3\""
      ]
     },
     "metadata": {},
     "output_type": "display_data"
    },
    {
     "data": {
      "text/html": [
       "12"
      ],
      "text/latex": [
       "12"
      ],
      "text/markdown": [
       "12"
      ],
      "text/plain": [
       "[1] 12"
      ]
     },
     "metadata": {},
     "output_type": "display_data"
    },
    {
     "data": {
      "text/html": [
       "'NPBPROMO3'"
      ],
      "text/latex": [
       "'NPBPROMO3'"
      ],
      "text/markdown": [
       "'NPBPROMO3'"
      ],
      "text/plain": [
       "[1] \"NPBPROMO3\""
      ]
     },
     "metadata": {},
     "output_type": "display_data"
    },
    {
     "data": {
      "text/html": [
       "'NPBPROMO3'"
      ],
      "text/latex": [
       "'NPBPROMO3'"
      ],
      "text/markdown": [
       "'NPBPROMO3'"
      ],
      "text/plain": [
       "[1] \"NPBPROMO3\""
      ]
     },
     "metadata": {},
     "output_type": "display_data"
    },
    {
     "data": {
      "text/html": [
       "12"
      ],
      "text/latex": [
       "12"
      ],
      "text/markdown": [
       "12"
      ],
      "text/plain": [
       "[1] 12"
      ]
     },
     "metadata": {},
     "output_type": "display_data"
    }
   ],
   "source": [
    "# values for important variables (run these to get a better sense of the code)\n",
    "filter(cohort_source_most_users_table, is.na(source))$userCount\n",
    "filter(cohort_source_most_users_table, source == \"NULL\")$userCount\n",
    "cohort_source_most_users_table$source[3]\n",
    "cohort_source_most_users_table$userCount[3]\n",
    "cohort_source_most_users_table$source[3]\n",
    "cohort_source_most_users_table$source[3]\n",
    "cohort_source_most_users_table$userCount[3]"
   ]
  },
  {
   "cell_type": "markdown",
   "metadata": {},
   "source": [
    "&nbsp;\n",
    "\n",
    "**Answer: Q6(Part-4):** \n",
    "\n",
    "* Below is a table and a bar graph for the top 5 sources from which most of the users are coming in this cohort. \n",
    "\n",
    "* The question asks to list the top source from which most users are coming. As is clear from the bar graph below, most of the source information is missing (NA, NULL).\n",
    "\n",
    "* Instead of removing them from the plot, I have kept these intentionally as I always find it useful to have a visual representation of what is missing from the dataset. Otherwise, many times, it simply gets missed from analysis.\n",
    "\n",
    "* But, if we ignore the `filter(cohort_source_most_users_table, is.na(source))$userCount` = **433** NA values, and `r filter(cohort_source_most_users_table, source == \"NULL\")$userCount` = **27** NULL values, the source from which the highest number of users are coming is `cohort_source_most_users_table$source[3]` = **NPBPROMO3**, with total number of users = `r cohort_source_most_users_table$userCount[3]` = **12**.\n",
    "\n",
    "* So, the answer for Question 6(part-4) is: `r cohort_source_most_users_table$source[3]` = **NPBPROMO3** is the source from which `r cohort_source_most_users_table$userCount[3]` = **12** users are coming.\n",
    "\n",
    "&nbsp;\n"
   ]
  },
  {
   "cell_type": "code",
   "execution_count": 32,
   "metadata": {},
   "outputs": [
    {
     "data": {
      "text/html": [
       "<table>\n",
       "<thead><tr><th scope=col>source</th><th scope=col>userCount</th><th scope=col>userPercentage</th></tr></thead>\n",
       "<tbody>\n",
       "\t<tr><td>NA       </td><td>433      </td><td>77.737882</td></tr>\n",
       "\t<tr><td>NPBPROMO1</td><td>  8      </td><td> 1.436266</td></tr>\n",
       "\t<tr><td>NPBPROMO3</td><td> 12      </td><td> 2.154399</td></tr>\n",
       "\t<tr><td>NPBPROMO4</td><td>  8      </td><td> 1.436266</td></tr>\n",
       "\t<tr><td>NULL     </td><td> 27      </td><td> 4.847397</td></tr>\n",
       "</tbody>\n",
       "</table>\n"
      ],
      "text/latex": [
       "\\begin{tabular}{r|lll}\n",
       " source & userCount & userPercentage\\\\\n",
       "\\hline\n",
       "\t NA        & 433       & 77.737882\\\\\n",
       "\t NPBPROMO1 &   8       &  1.436266\\\\\n",
       "\t NPBPROMO3 &  12       &  2.154399\\\\\n",
       "\t NPBPROMO4 &   8       &  1.436266\\\\\n",
       "\t NULL      &  27       &  4.847397\\\\\n",
       "\\end{tabular}\n"
      ],
      "text/markdown": [
       "\n",
       "| source | userCount | userPercentage |\n",
       "|---|---|---|\n",
       "| NA        | 433       | 77.737882 |\n",
       "| NPBPROMO1 |   8       |  1.436266 |\n",
       "| NPBPROMO3 |  12       |  2.154399 |\n",
       "| NPBPROMO4 |   8       |  1.436266 |\n",
       "| NULL      |  27       |  4.847397 |\n",
       "\n"
      ],
      "text/plain": [
       "  source    userCount userPercentage\n",
       "1 NA        433       77.737882     \n",
       "2 NPBPROMO1   8        1.436266     \n",
       "3 NPBPROMO3  12        2.154399     \n",
       "4 NPBPROMO4   8        1.436266     \n",
       "5 NULL       27        4.847397     "
      ]
     },
     "metadata": {},
     "output_type": "display_data"
    },
    {
     "data": {
      "image/png": "[encoded data removed]",
      "text/plain": [
       "plot without title"
      ]
     },
     "metadata": {},
     "output_type": "display_data"
    }
   ],
   "source": [
    "# plot: Top 5 sources from which most users are coming\n",
    "cohort_source_most_users_table_plot\n",
    "\n",
    "# table: Top 5 sources from which most users are coming\n",
    "cohort_source_most_users_table\n"
   ]
  },
  {
   "cell_type": "markdown",
   "metadata": {},
   "source": [
    "&nbsp;\n",
    "\n",
    "<hr>\n",
    "\n",
    "#### A few other graphs to help better understand Q6:\n",
    "\n",
    "&nbsp;\n"
   ]
  },
  {
   "cell_type": "code",
   "execution_count": 33,
   "metadata": {},
   "outputs": [
    {
     "data": {
      "image/png": "[encoded data removed]",
      "text/plain": [
       "plot without title"
      ]
     },
     "metadata": {},
     "output_type": "display_data"
    },
    {
     "data": {
      "image/png": "[encoded data removed]",
      "text/plain": [
       "plot without title"
      ]
     },
     "metadata": {},
     "output_type": "display_data"
    }
   ],
   "source": [
    "# tmp dataset for generating graphs\n",
    "foo_user_tmp <- customer_user_raw %>%\n",
    "  filter(customerId %in% cohort_customers)\n",
    "\n",
    "foo_scans_tmp <- customer_scans_raw %>%\n",
    "  filter(customerId %in% cohort_customers,\n",
    "         storeName %in% cohort_users_5_stores_scanned_most_from$storeName)\n",
    "\n",
    "\n",
    "# gender distribution within tiers\n",
    "foo_user_tmp %>% \n",
    "  ggplot(mapping = aes(x = tierId, fill = gender)) +\n",
    "  geom_bar(position = \"dodge\") + \n",
    "  ggtitle(\"gender distribution within tiers\")\n",
    "\n",
    "# billTotal distribution for top 5 stores users scanned most from\n",
    "foo_scans_tmp %>% \n",
    "  ggplot(mapping = aes(x = storeName, y = billTotal)) +\n",
    "  scale_y_log10() +\n",
    "  geom_boxplot() + \n",
    "  xlab(\"log10(billTotal)\") +\n",
    "  ggtitle(\"billTotal (log10) dist for top 5 stores users scanned most from\")\n",
    "\n",
    "  \n"
   ]
  },
  {
   "cell_type": "markdown",
   "metadata": {},
   "source": [
    "&nbsp;\n",
    "\n",
    "<hr>\n",
    "\n",
    "#### **Q6(Part-5):** Observe the behaviour of this cohort and write your observations and insights.\n",
    "\n",
    "&nbsp;\n",
    "\n",
    "#### **Answer: Q6(Part-5):** Observations and Insights:\n",
    "\n",
    "* In this cohort, more than 75% of the total number of users live in tier-2 alone. 86% of the users live in tier-1 and tier-2 combined. 98% of the users live in tier-1, tier-2 and tier-3 combined. Almost no one lives in Tier-4 and Tier-5. This shows that this particular cohort mostly resides in Urban high population centers. **[Refer plot: Tier distribution of Cohort users plot]**.\n",
    "\n",
    "* Around 70% of the users in this cohort are Males and 30% females. But, almost 15% of data on 'gender' is missing (either NA, or NULL). **[Refer plot: Gender distribution of cohort users plot]**.\n",
    "  \n",
    "  * The sex ratio for India according to [this article](https://www.census2011.co.in/sexratio.php) is 1.06 males for every 1 female. This means that for every 1000 females there are 1060 males. \n",
    "  \n",
    "    * The sex ratio in our cohort (with missing gender data) is 2.47 males for 1 female, which would mean that for every 1000 females, there are 2,470 males. That does not seem right. Gender gap will probably decrease if missing data becomes available.\n",
    "  \n",
    "* Almost all of the missing data, comes from either tier-1, tier-2 or tier-3. This makes sense as that is where most of the users reside. **[Refer plot: Gender distribution within tiers plot]**\n",
    "\n",
    "* Gender gap within tiers is similar to the gender gap in the  overall data. But, as mentioned earlier, this is probably because a lot of data on gender is missing. **[Refer plot: Gender distribution within tiers plot]**\n",
    "\n",
    "* Users scanned the most from Big Bazaar. Of the total number of scans count in the top 5 stores (from which users scanned the most), more than half of those scans are for Big Bazaar. The next big chunk is taken by the Lifestyle store, followed by Luxe, Latt Liv and Miniso. **[Refer plot: 5 stores users scanned most from plot]**\n",
    "\n",
    "* Big Bazaar and Lifestyle probably being the most pocket friendly, were the ones that users scanned the most. But, for more expensive (relatively) stores like Luxe, Miniso, Latt Liv we see lesser number of scans (compared to Big Bazaar). **[Ref plot: 5 stores users scanned most from plot]**\n",
    "\n",
    "* The source from which most users are coming is NPBPROMO3, the next best top sources also are versions of this NPBPROMO class. This means that these are probably the best places for shop owners to invest their money in to attract customers.**[Refer plot: Top 5 sources from which most users are coming]**\n",
    "\n",
    "* **[Refer plot: billTotal distribution for top 5 stores users scanned most from]**\n",
    " \n",
    "  * We see that average values for billTotal for all stores is approximately the same. For big bazaar the average is the lowest, which is expected.\n",
    "  \n",
    "  * There is a high amount of variation in the distribution of billTotal for both Big Bazaar and Lifestyle. This is probably because of the variety of products they sell. That also explains the most number of bills being scanned in these stores, as they attract people from all tiers.\n",
    "  \n",
    "  * Their is very little amount of variation in the billTotal of Miniso store, which probably hints at the streamlined product lines that it has for people who can afford to spend more, probably mostly tier-1 and tier-2 people.\n",
    "  \n",
    "  * In all stores, except Luxe, there is small amount if variation around the average, or in other words, the Inter Quartile Range is small. This tells us that, except for Luxe (which has a large amount of variation in its billTotal), all other stores have billTotals that stay close to the average billTotal amount.\n",
    "\n",
    "\n",
    "&nbsp;\n",
    "\n",
    "&nbsp;\n",
    "\n",
    "<hr>\n",
    "\n",
    "### Code and answer for Q7\n",
    "\n",
    "**Question 7:** Month on Month comparison:\n",
    "\n",
    "  1. From the given tables derive this table(execute joins with other  tables if required).\n",
    "  \n",
    "  2. Analyse the change in September Vs October and highlight/mention the highest changes for each tier\n",
    "  \n",
    "  3. Observe the metrics and write your observations and insights\n",
    "  \n",
    "&nbsp;\n",
    "\n",
    "**Code and Answer to Question 7: Part-1**\n",
    "\n",
    "**Q7(Part-1):** From the given tables derive this table(execute joins with other tables if required)\n",
    "\n",
    "#### Code\n"
   ]
  },
  {
   "cell_type": "code",
   "execution_count": 34,
   "metadata": {},
   "outputs": [
    {
     "data": {
      "text/html": [
       "TRUE"
      ],
      "text/latex": [
       "TRUE"
      ],
      "text/markdown": [
       "TRUE"
      ],
      "text/plain": [
       "[1] TRUE"
      ]
     },
     "metadata": {},
     "output_type": "display_data"
    },
    {
     "data": {
      "text/html": [
       "5543"
      ],
      "text/latex": [
       "5543"
      ],
      "text/markdown": [
       "5543"
      ],
      "text/plain": [
       "[1] 5543"
      ]
     },
     "metadata": {},
     "output_type": "display_data"
    },
    {
     "data": {
      "text/html": [
       "26597"
      ],
      "text/latex": [
       "26597"
      ],
      "text/markdown": [
       "26597"
      ],
      "text/plain": [
       "[1] 26597"
      ]
     },
     "metadata": {},
     "output_type": "display_data"
    },
    {
     "data": {
      "text/html": [
       "28883"
      ],
      "text/latex": [
       "28883"
      ],
      "text/markdown": [
       "28883"
      ],
      "text/plain": [
       "[1] 28883"
      ]
     },
     "metadata": {},
     "output_type": "display_data"
    }
   ],
   "source": [
    "# sanity checks\n",
    "sum(customer_scans_raw$customerId %in%\n",
    "  customer_user_raw$customerId) == length(customer_scans_raw$customerId)\n",
    "\n",
    "sum(customer_user_raw$customerId %in%\n",
    "  customer_scans_raw$customerId)\n",
    "\n",
    "# performing a left-join and combining the \"customer_user_raw\" data with \"customer_scans_raw data\" \n",
    "\n",
    "customer_user_scans_join_Q7 <- dplyr::left_join(\n",
    "  select(customer_user_raw, -createdAt), customer_scans_raw, by = \"customerId\")\n",
    "\n",
    "# removing duplicate rows (if any) unlikely that we will see duplicate rows here as there are a lot of columns\n",
    "customer_user_scans_join_Q7 <- customer_user_scans_join_Q7[!duplicated(customer_user_scans_join_Q7), ]\n",
    "\n",
    "# adding 2 columns, a month and a year column to the customer_user_scans_join_Q7 dataset------------------------------------------------------------------------ \n",
    "\n",
    "# we will derive these column is derived from the \"createdAt\" column of the joined dataset. The \"createdAt\" column in the joined dataset, contains the date at which the scan was created.\n",
    "\n",
    "# Note that, there was a \"createdAt\" column in the customer_user_raw dataset, # although the name is the same, that refers to the date at which the customer signed up. To avoid confusion, I removed that column, while joining rhe dataset. \n",
    "# So, the \"createdAt\" in the joined dataset, corresponds to the \"createdAt\" column of the \"customer_scans_raw\" data. It should be interpreted as, it would have been interpreted in the scans dataset, i.e. it is the date at which the scan was created.\n",
    "\n",
    "# From this column, I will derive two new columns and add it to the joined data set before.\n",
    "\n",
    "customer_user_scans_join_Q7 <- customer_user_scans_join_Q7 %>%\n",
    "  mutate(scanCreatedMonth = lubridate::month(createdAt), \n",
    "         scanCreatedYear = lubridate::year(createdAt))\n",
    "\n",
    "# left_join customer_user_scans_join_Q7 dataset with coupon_transactions_raw_unique--------------------------------------\n",
    "\n",
    "# sanity checks before joining\n",
    "\n",
    "sum(coupon_transactions_raw_unique$customerId %in% \n",
    "  customer_user_scans_join_Q7$customerId)\n",
    "\n",
    "sum(customer_user_scans_join_Q7$customerId %in% coupon_transactions_raw_unique$customerId)\n",
    "\n",
    "# left-joining after sanity check complete\n",
    "customer_user_scans_join_Q7_join_coupTransRawUniq <- \n",
    "  left_join(customer_user_scans_join_Q7, coupon_transactions_raw_unique, \n",
    "            by = \"customerId\")\n",
    "\n",
    "\n",
    "\n",
    "# Create parts of table separately and then bind them together------------------------------------------------------------\n",
    "\n",
    "# Unique users (by TierId) who scanned in Sep 2020-----------------------\n",
    "\n",
    "# selecting relevant columns\n",
    "uniq_users_byTier_scanned_Sep2020 <- customer_user_scans_join_Q7 %>% \n",
    "  select(customerId, tierId, scanCreatedMonth, scanCreatedYear, createdAt)\n",
    "\n",
    "# removing duplicates\n",
    "uniq_users_byTier_scanned_Sep2020 <- uniq_users_byTier_scanned_Sep2020[!duplicated(uniq_users_byTier_scanned_Sep2020), ]\n",
    "\n",
    "# uniq users by tier who scanned in sep 2020 summary table\n",
    "uniq_users_byTier_scanned_Sep2020 <- uniq_users_byTier_scanned_Sep2020 %>%\n",
    "  filter(scanCreatedMonth %in% c(9), scanCreatedYear %in% c(2020), !is.na(createdAt)) %>%\n",
    "  group_by(tierId) %>%\n",
    "  summarise(uniqUsersWhoScannedIn_Sep2020 = length(unique(customerId)))\n",
    "\n",
    "# adding a row for tier-5 and filling it with NA as there is no data in tier-5\n",
    "uniq_users_byTier_scanned_Sep2020 <- dplyr::add_row(\n",
    "  uniq_users_byTier_scanned_Sep2020, tierId = 5, uniqUsersWhoScannedIn_Sep2020 = NA)\n",
    "\n",
    "\n",
    "# Unique users (by tierId) who scanned in Oct 2020-----------------------------------\n",
    "\n",
    "# selecting relevant columns\n",
    "uniq_users_byTier_scanned_Oct2020 <- customer_user_scans_join_Q7 %>% \n",
    "  select(customerId, tierId, scanCreatedMonth, scanCreatedYear, createdAt)\n",
    "\n",
    "# removing duplicates\n",
    "uniq_users_byTier_scanned_Oct2020 <- uniq_users_byTier_scanned_Oct2020[!duplicated(uniq_users_byTier_scanned_Oct2020), ]\n",
    "\n",
    "# Unique users (by tierId) who scanned in Oct 2020 summary table\n",
    "uniq_users_byTier_scanned_Oct2020 <- uniq_users_byTier_scanned_Oct2020 %>%\n",
    "  filter(scanCreatedMonth %in% c(10), scanCreatedYear %in% c(2020), !is.na(createdAt)) %>%\n",
    "  group_by(tierId) %>%\n",
    "  summarise(uniqUsersWhoScannedIn_Oct2020 = length(unique(customerId)))\n",
    "\n",
    "\n",
    "# Number of bills scanned (Image) in Sep 2020---------------------------------------\n",
    "\n",
    "# selecting relevant columns\n",
    "num_bills_scanned_Sep2020_byTier <- customer_user_scans_join_Q7 %>%\n",
    "  select(tierId, customerId, scanCreatedMonth, scanCreatedYear, image)\n",
    "\n",
    "# removing duplicates\n",
    "num_bills_scanned_Sep2020_byTier <- num_bills_scanned_Sep2020_byTier[!duplicated(num_bills_scanned_Sep2020_byTier), ]\n",
    "\n",
    "# Number of bills scanned (Image) in Sep 2020 summary table\n",
    "num_bills_scanned_Sep2020_byTier <-  num_bills_scanned_Sep2020_byTier %>%\n",
    "  filter(scanCreatedMonth %in% c(9), scanCreatedYear %in% c(2020), !is.na(image)) %>%\n",
    "  group_by(tierId) %>%\n",
    "  summarise(numBillsScannedIn_Sep2020 = length(image))\n",
    "\n",
    "# adding a row for tier-5 and filling it with NA as there is no data in tier-5\n",
    "num_bills_scanned_Sep2020_byTier <- dplyr::add_row(num_bills_scanned_Sep2020_byTier, \n",
    "                tierId = 5, numBillsScannedIn_Sep2020 = NA)\n",
    "\n",
    "\n",
    "# Number of bills scanned (Image) in Oct 2020-------------------------------------------\n",
    "\n",
    "# selecting relevant columns\n",
    "num_bills_scanned_Oct2020_byTier <- customer_user_scans_join_Q7 %>%\n",
    "  select(tierId, customerId, scanCreatedMonth, scanCreatedYear, image)\n",
    "\n",
    "# removing duplicates\n",
    "num_bills_scanned_Oct2020_byTier <- num_bills_scanned_Oct2020_byTier[!duplicated(num_bills_scanned_Oct2020_byTier), ]\n",
    "\n",
    "# Number of bills scanned (Image) in Oct 2020 summary table\n",
    "num_bills_scanned_Oct2020_byTier <-  num_bills_scanned_Oct2020_byTier %>%\n",
    "  filter(scanCreatedMonth %in% c(10), scanCreatedYear %in% c(2020), !is.na(image)) %>%\n",
    "  group_by(tierId) %>%\n",
    "  summarise(numBillsScannedIn_Oct2020 = length(image))\n",
    "\n",
    "# Scan Amount (billTotal) Sep 2020------------------------------------------------------\n",
    "\n",
    "# selecting relevant columns\n",
    "scan_amount_bill_total_Sep2020_byTier <- customer_user_scans_join_Q7 %>% \n",
    "  select(customerId, tierId, scanCreatedMonth, scanCreatedYear, billTotal)\n",
    "\n",
    "# removing duplicates  \n",
    "scan_amount_bill_total_Sep2020_byTier <- scan_amount_bill_total_Sep2020_byTier[!duplicated(scan_amount_bill_total_Sep2020_byTier), ]\n",
    "\n",
    "# Scan Amount (billTotal) Sep 2020 summary table\n",
    "scan_amount_bill_total_Sep2020_byTier <- \n",
    "  scan_amount_bill_total_Sep2020_byTier %>%\n",
    "  filter(scanCreatedMonth %in% c(9), scanCreatedYear %in% c(2020)) %>%\n",
    "  group_by(tierId) %>%\n",
    "  summarise(scanAmountBillTotal_Sep2020 = sum(billTotal, na.rm = TRUE))\n",
    "\n",
    "# adding a row for tier-5 and filling it with NA as there is no data in tier-5\n",
    "scan_amount_bill_total_Sep2020_byTier <- dplyr::add_row(\n",
    "  scan_amount_bill_total_Sep2020_byTier, tierId = 5, \n",
    "  scanAmountBillTotal_Sep2020 = NA\n",
    ")\n",
    "\n",
    "# Scan Amount (billTotal) October 2020--------------------------------------------\n",
    "\n",
    "# selecting relevant columns\n",
    "scan_amount_bill_total_Oct2020_byTier <- customer_user_scans_join_Q7 %>% \n",
    "  select(customerId, tierId, scanCreatedMonth, scanCreatedYear, billTotal)\n",
    "\n",
    "# removing duplicates  \n",
    "scan_amount_bill_total_Oct2020_byTier <- scan_amount_bill_total_Oct2020_byTier[!duplicated(scan_amount_bill_total_Oct2020_byTier), ]\n",
    "\n",
    "# Scan Amount (billTotal) October 2020 summary table\n",
    "scan_amount_bill_total_Oct2020_byTier <- \n",
    "  scan_amount_bill_total_Oct2020_byTier %>%\n",
    "  filter(scanCreatedMonth %in% c(10), scanCreatedYear %in% c(2020)) %>%\n",
    "  group_by(tierId) %>%\n",
    "  summarise(scanAmountBillTotal_Oct2020 = sum(billTotal, na.rm = TRUE))\n",
    "\n",
    "# Coupon Unlocks in September 2020-----------------------------------------------------\n",
    "\n",
    "# selecting relevant columns\n",
    "coupon_unlocks_sep2020_byTier <- customer_user_scans_join_Q7_join_coupTransRawUniq %>%\n",
    "  select(customerId, tierId, scanCreatedMonth, scanCreatedYear, couponId, \n",
    "         couponUnlockDate) \n",
    "\n",
    "# removing duplicates \n",
    "coupon_unlocks_sep2020_byTier <- coupon_unlocks_sep2020_byTier[!duplicated(coupon_unlocks_sep2020_byTier), ]\n",
    "\n",
    "# Coupon Unlocks in September 2020 summary table\n",
    "coupon_unlocks_sep2020_byTier <-  coupon_unlocks_sep2020_byTier  %>%\n",
    "  filter(scanCreatedMonth %in% c(9), scanCreatedYear %in% c(2020)) %>%\n",
    "  group_by(tierId) %>%\n",
    "  summarise(couponUnlocks_Sep2020 = sum(!is.na(couponUnlockDate)))\n",
    "\n",
    "# adding a row for tier-5 and filling it with NA as there is no data in tier-5\n",
    "coupon_unlocks_sep2020_byTier <- dplyr::add_row(coupon_unlocks_sep2020_byTier, tierId = 5, couponUnlocks_Sep2020 = NA)\n",
    "\n",
    "\n",
    "# Coupon Unlocks in October 2020-----------------------------------------------------------\n",
    "\n",
    "# selecting relevant columns\n",
    "coupon_unlocks_Oct2020_byTier <- customer_user_scans_join_Q7_join_coupTransRawUniq %>%\n",
    "  select(customerId, tierId, scanCreatedMonth, scanCreatedYear, couponId, \n",
    "         couponUnlockDate) \n",
    "\n",
    "# removing duplicate rows\n",
    "coupon_unlocks_Oct2020_byTier <- coupon_unlocks_Oct2020_byTier[!duplicated(coupon_unlocks_Oct2020_byTier), ]\n",
    "\n",
    "# Coupon Unlocks in October 2020 summary table\n",
    "coupon_unlocks_Oct2020_byTier <-  coupon_unlocks_Oct2020_byTier %>%\n",
    "  filter(scanCreatedMonth %in% c(10), scanCreatedYear %in% c(2020)) %>%\n",
    "  group_by(tierId) %>%\n",
    "  summarise(couponUnlocks_Oct2020 = sum(!is.na(couponUnlockDate)))\n",
    "\n",
    "# All sub-parts of table created. Now, joining all the sub-parts of the table into a single dataset, in a format as asked in Q7 Part 1---------------------\n",
    "\n",
    "monthOnMonthCompTableQ7P1 <- left_join(left_join(left_join(left_join(left_join(left_join(left_join(uniq_users_byTier_scanned_Sep2020, \n",
    "          uniq_users_byTier_scanned_Oct2020, by = \"tierId\"),\n",
    "          num_bills_scanned_Sep2020_byTier, by = \"tierId\"), \n",
    "          num_bills_scanned_Oct2020_byTier, by = \"tierId\"), \n",
    "          scan_amount_bill_total_Sep2020_byTier, by = \"tierId\"), \n",
    "          scan_amount_bill_total_Oct2020_byTier, by = \"tierId\"), \n",
    "          coupon_unlocks_sep2020_byTier, by = \"tierId\"), \n",
    "          coupon_unlocks_Oct2020_byTier, by = \"tierId\")\n"
   ]
  },
  {
   "cell_type": "markdown",
   "metadata": {},
   "source": [
    "&nbsp;\n",
    "\n",
    "#### Important Note for interpreting the above code chunk: \n",
    "\n",
    "* There is a \"createdAt\" column both in the customer_user_raw dataset and customer_scans_raw dataset. The name is the same, but they mean different things. In the customer_user_raw dataset, the \"createdAt\" column refers to the **date at which the customer signed up**. \n",
    "\n",
    "* In the customer_scans_raw dataset, the \"createdAt\" column refers to *the date at which the scanned bill was created*.  \n",
    "\n",
    "* To avoid confusion, after joining the customer_user_raw and customer_scans_raw dataset, I removed one of the \"createdAt\" column (one that comes from the customer_user_raw dataset and refers to the date of sign up).\n",
    "\n",
    "* So, the \"createdAt\" in the **customer_user_scans_join_Q7** dataset, corresponds to the \"createdAt\" column of the \"customer_scans_raw\" data. It should be interpreted as, it would have been interpreted in the scans dataset, i.e. it is the date at which the scan was created.\n",
    "\n",
    "* I also join the above (**customer_user_scans_join_Q7**) dataset with the **coupon_transactions_raw_unique** dataset. In the resulting dataset, called: **customer_user_scans_join_Q7_join_coupTransRawUniq**,  again, the \"createdAt\" column should be interpreted as: the date at which the scan was created.\n",
    "\n",
    "* The final table is generated by joining each subset table (8 subset tables in total). This is why we see a bunch a lot of left_joins in the end of the above code chunk.\n",
    "\n",
    "* Also, please note that 5th tier was not present in any of the September, 2020 subset tables, so before joining the subset tables, I added an additional (5th) row at the end of the dataset for the 5th tier (with its value being NA) for all September 2020 subset tables. \n",
    "\n",
    "&nbsp;\n",
    "\n",
    "#### **Answer: Q7(Part-1):** Below present is the month on month comparison table in the format as asked in Q7 Part-1 of the assignement.\n",
    "\n",
    "&nbsp;\n"
   ]
  },
  {
   "cell_type": "code",
   "execution_count": 35,
   "metadata": {},
   "outputs": [
    {
     "data": {
      "text/html": [
       "<table>\n",
       "<thead><tr><th scope=col>tierId</th><th scope=col>uniqUsersWhoScannedIn_Sep2020</th><th scope=col>uniqUsersWhoScannedIn_Oct2020</th><th scope=col>numBillsScannedIn_Sep2020</th><th scope=col>numBillsScannedIn_Oct2020</th><th scope=col>scanAmountBillTotal_Sep2020</th><th scope=col>scanAmountBillTotal_Oct2020</th><th scope=col>couponUnlocks_Sep2020</th><th scope=col>couponUnlocks_Oct2020</th></tr></thead>\n",
       "<tbody>\n",
       "\t<tr><td>1         </td><td>191       </td><td>148       </td><td>339       </td><td>257       </td><td> 598540.5 </td><td> 396168.50</td><td> 216      </td><td> 151      </td></tr>\n",
       "\t<tr><td>2         </td><td>341       </td><td>351       </td><td>935       </td><td>850       </td><td>6556099.6 </td><td>6202495.15</td><td>1214      </td><td>1084      </td></tr>\n",
       "\t<tr><td>3         </td><td> 42       </td><td> 58       </td><td>190       </td><td>287       </td><td>2388393.8 </td><td>3829408.42</td><td> 842      </td><td> 753      </td></tr>\n",
       "\t<tr><td>4         </td><td>  1       </td><td>  2       </td><td>  1       </td><td> 21       </td><td>    275.0 </td><td>  59334.17</td><td>  28      </td><td>  30      </td></tr>\n",
       "\t<tr><td>5         </td><td> NA       </td><td>  1       </td><td> NA       </td><td> 14       </td><td>       NA </td><td> 640214.90</td><td>  NA      </td><td>  23      </td></tr>\n",
       "</tbody>\n",
       "</table>\n"
      ],
      "text/latex": [
       "\\begin{tabular}{r|lllllllll}\n",
       " tierId & uniqUsersWhoScannedIn\\_Sep2020 & uniqUsersWhoScannedIn\\_Oct2020 & numBillsScannedIn\\_Sep2020 & numBillsScannedIn\\_Oct2020 & scanAmountBillTotal\\_Sep2020 & scanAmountBillTotal\\_Oct2020 & couponUnlocks\\_Sep2020 & couponUnlocks\\_Oct2020\\\\\n",
       "\\hline\n",
       "\t 1          & 191        & 148        & 339        & 257        &  598540.5  &  396168.50 &  216       &  151      \\\\\n",
       "\t 2          & 341        & 351        & 935        & 850        & 6556099.6  & 6202495.15 & 1214       & 1084      \\\\\n",
       "\t 3          &  42        &  58        & 190        & 287        & 2388393.8  & 3829408.42 &  842       &  753      \\\\\n",
       "\t 4          &   1        &   2        &   1        &  21        &     275.0  &   59334.17 &   28       &   30      \\\\\n",
       "\t 5          &  NA        &   1        &  NA        &  14        &        NA  &  640214.90 &   NA       &   23      \\\\\n",
       "\\end{tabular}\n"
      ],
      "text/markdown": [
       "\n",
       "| tierId | uniqUsersWhoScannedIn_Sep2020 | uniqUsersWhoScannedIn_Oct2020 | numBillsScannedIn_Sep2020 | numBillsScannedIn_Oct2020 | scanAmountBillTotal_Sep2020 | scanAmountBillTotal_Oct2020 | couponUnlocks_Sep2020 | couponUnlocks_Oct2020 |\n",
       "|---|---|---|---|---|---|---|---|---|\n",
       "| 1          | 191        | 148        | 339        | 257        |  598540.5  |  396168.50 |  216       |  151       |\n",
       "| 2          | 341        | 351        | 935        | 850        | 6556099.6  | 6202495.15 | 1214       | 1084       |\n",
       "| 3          |  42        |  58        | 190        | 287        | 2388393.8  | 3829408.42 |  842       |  753       |\n",
       "| 4          |   1        |   2        |   1        |  21        |     275.0  |   59334.17 |   28       |   30       |\n",
       "| 5          |  NA        |   1        |  NA        |  14        |        NA  |  640214.90 |   NA       |   23       |\n",
       "\n"
      ],
      "text/plain": [
       "  tierId uniqUsersWhoScannedIn_Sep2020 uniqUsersWhoScannedIn_Oct2020\n",
       "1 1      191                           148                          \n",
       "2 2      341                           351                          \n",
       "3 3       42                            58                          \n",
       "4 4        1                             2                          \n",
       "5 5       NA                             1                          \n",
       "  numBillsScannedIn_Sep2020 numBillsScannedIn_Oct2020\n",
       "1 339                       257                      \n",
       "2 935                       850                      \n",
       "3 190                       287                      \n",
       "4   1                        21                      \n",
       "5  NA                        14                      \n",
       "  scanAmountBillTotal_Sep2020 scanAmountBillTotal_Oct2020 couponUnlocks_Sep2020\n",
       "1  598540.5                    396168.50                   216                 \n",
       "2 6556099.6                   6202495.15                  1214                 \n",
       "3 2388393.8                   3829408.42                   842                 \n",
       "4     275.0                     59334.17                    28                 \n",
       "5        NA                    640214.90                    NA                 \n",
       "  couponUnlocks_Oct2020\n",
       "1  151                 \n",
       "2 1084                 \n",
       "3  753                 \n",
       "4   30                 \n",
       "5   23                 "
      ]
     },
     "metadata": {},
     "output_type": "display_data"
    }
   ],
   "source": [
    "monthOnMonthCompTableQ7P1\n",
    "\n"
   ]
  },
  {
   "cell_type": "markdown",
   "metadata": {},
   "source": [
    "&nbsp;\n",
    "\n",
    "**Q7 Part-1 Graphs:** Generating a few graphs to get insight into the month-on-month comparison table genrated above. After this I will answer Q7: parts 2 and 3.\n"
   ]
  },
  {
   "cell_type": "code",
   "execution_count": 36,
   "metadata": {},
   "outputs": [
    {
     "name": "stderr",
     "output_type": "stream",
     "text": [
      "Parsed with column specification:\n",
      "cols(\n",
      "  tierId = col_double(),\n",
      "  trait = col_character(),\n",
      "  monthYear = col_character(),\n",
      "  values = col_double()\n",
      ")\n"
     ]
    },
    {
     "data": {
      "image/png": "[encoded data removed]",
      "text/plain": [
       "plot without title"
      ]
     },
     "metadata": {},
     "output_type": "display_data"
    },
    {
     "data": {
      "image/png": "[encoded data removed]",
      "text/plain": [
       "plot without title"
      ]
     },
     "metadata": {},
     "output_type": "display_data"
    },
    {
     "data": {
      "image/png": "[encoded data removed]",
      "text/plain": [
       "plot without title"
      ]
     },
     "metadata": {},
     "output_type": "display_data"
    },
    {
     "data": {
      "image/png": "[encoded data removed]",
      "text/plain": [
       "plot without title"
      ]
     },
     "metadata": {},
     "output_type": "display_data"
    },
    {
     "data": {
      "image/png": "[encoded data removed]",
      "text/plain": [
       "plot without title"
      ]
     },
     "metadata": {},
     "output_type": "display_data"
    }
   ],
   "source": [
    "# bringing the data into a tidy format to make plots with ggplot2\n",
    "monthOnMonthCompTableQ7P1_tidyFormat <- read_csv(url(\"https://raw.githubusercontent.com/AarshBatra/UnifyndInterviewAssessment/master/data-raw/monthOnMonthCompTableQ7P1_tidyFormat.csv\"))\n",
    "\n",
    "# Graph 1: Comparing total unique users who scanned in Sep v/s Oct (2020)\n",
    "monthOnMonthCompTableQ7P1_tidyFormat %>% \n",
    "  filter(trait == \"uniqUsersWhoScannedIn\") %>%\n",
    "  ggplot(mapping = aes(x = tierId, y = values, fill = monthYear)) +\n",
    "  geom_col(position = \"dodge\") + \n",
    "  scale_y_continuous(breaks = seq(0, 500, by = 50)) +\n",
    "  ggtitle(\"Unique users who scanned in Sep 2020 and Oct 2020\") +\n",
    "  geom_text(mapping = aes(label = values), position=position_dodge(width=0.9), vjust=-0.25) +\n",
    "  theme(plot.title = element_text(hjust = 0.5)) + \n",
    "  theme_minimal()\n",
    "\n",
    "\n",
    "# Graph 2: Comparing number of bills scanned in Sep v/s Oct (2020)\n",
    "monthOnMonthCompTableQ7P1_tidyFormat %>% \n",
    "  filter(trait == \"numBillsScannedIn\") %>%\n",
    "  ggplot(mapping = aes(x = tierId, y = values, fill = monthYear)) +\n",
    "  geom_col(position = \"dodge\") + \n",
    "  ggtitle(\"Number of bills scanned in Sep 2020 and Oct 2020\") +\n",
    "  geom_text(mapping = aes(label = values), position=position_dodge(width=0.9), vjust=-0.25) +\n",
    "  theme(plot.title = element_text(hjust = 0.5)) + \n",
    "  theme_minimal()\n",
    "\n",
    "\n",
    "# Graph 3: Comparing: Scanned amount bill total in Sep v/s Oct 2020\n",
    "\n",
    "monthOnMonthCompTableQ7P1_tidyFormat %>% \n",
    "  filter(trait == \"scanAmountBillTotal\") %>%\n",
    "  ggplot(mapping = aes(x = tierId, y = values, fill = monthYear)) +\n",
    "  geom_col(position = \"dodge\") + \n",
    "  ggtitle(\"Scanned amount bill total in Sep 2020 and Oct (2020)\") +\n",
    "  theme(plot.title = element_text(hjust = 0.5)) + \n",
    "  theme_minimal()\n",
    "\n",
    "\n",
    "# Graph 4: Comparing Coupon Unlocks in Sep v/s Oct (2020)\n",
    "\n",
    "monthOnMonthCompTableQ7P1_tidyFormat %>% \n",
    "  filter(trait == \"couponUnlocks\") %>%\n",
    "  ggplot(mapping = aes(x = tierId, y = values, fill = monthYear)) +\n",
    "  geom_col(position = \"dodge\") + \n",
    "  ggtitle(\"Coupon Unlocks in Sep 2020 and Oct (2020)\") +\n",
    "  geom_text(mapping = aes(label = values), position=position_dodge(width=0.9), vjust=-0.25) +\n",
    "  theme(plot.title = element_text(hjust = 0.5)) + \n",
    "  theme_minimal()\n",
    "\n",
    "# Graph 5: A facetted bar plot to see all of the above in one graph (but y axis will be in log10 scale, as values for each group differ a lot)\n",
    "\n",
    "monthOnMonthCompTableQ7P1_tidyFormat %>%\n",
    "  ggplot(mapping = aes(x = tierId, y = values, fill = monthYear)) +\n",
    "  geom_col(position = \"dodge\") + \n",
    "  scale_y_log10()+\n",
    "  facet_wrap(~ trait) +\n",
    "  ggtitle(\"Above 4 graphs in one plot with y axis in log10 scale\")\n"
   ]
  },
  {
   "cell_type": "markdown",
   "metadata": {},
   "source": [
    "&nbsp;\n",
    "\n",
    "**Note:** In the final graph above with title **Above 4 graphs in one plot with y axis in log10 scale**, the y axis is in **log10** scale. For the 4 groups in the plot, range of values differs by a lot, hence y axis is log scaled, so as to display all 4 groups together in one single plot, which makes comparison easier.\n",
    "\n",
    "&nbsp;\n",
    "\n",
    "<hr>\n",
    "\n",
    "**Q7(Part-2):** Analyse the change in September Vs October and highlight/mention the highest changes for each tier\n",
    "\n",
    "&nbsp;\n"
   ]
  },
  {
   "cell_type": "code",
   "execution_count": 37,
   "metadata": {},
   "outputs": [
    {
     "data": {
      "text/html": [
       "<table>\n",
       "<thead><tr><th scope=col>tierId</th><th scope=col>diff_unq_users_scan_oct2020_sep2020</th><th scope=col>diff_num_bills_scanned_oct2020_sep2020</th><th scope=col>diff_scan_amt_billTotal_oct2020_sep2020</th><th scope=col>diff_couponUnlocks_oct2020_sep2020</th></tr></thead>\n",
       "<tbody>\n",
       "\t<tr><td>1         </td><td>-43       </td><td>-82       </td><td>-202371.97</td><td> -65      </td></tr>\n",
       "\t<tr><td>2         </td><td> 10       </td><td>-85       </td><td>-353604.46</td><td>-130      </td></tr>\n",
       "\t<tr><td>3         </td><td> 16       </td><td> 97       </td><td>1441014.65</td><td> -89      </td></tr>\n",
       "\t<tr><td>4         </td><td>  1       </td><td> 20       </td><td>  59059.17</td><td>   2      </td></tr>\n",
       "\t<tr><td>5         </td><td> NA       </td><td> NA       </td><td>        NA</td><td>  NA      </td></tr>\n",
       "</tbody>\n",
       "</table>\n"
      ],
      "text/latex": [
       "\\begin{tabular}{r|lllll}\n",
       " tierId & diff\\_unq\\_users\\_scan\\_oct2020\\_sep2020 & diff\\_num\\_bills\\_scanned\\_oct2020\\_sep2020 & diff\\_scan\\_amt\\_billTotal\\_oct2020\\_sep2020 & diff\\_couponUnlocks\\_oct2020\\_sep2020\\\\\n",
       "\\hline\n",
       "\t 1          & -43        & -82        & -202371.97 &  -65      \\\\\n",
       "\t 2          &  10        & -85        & -353604.46 & -130      \\\\\n",
       "\t 3          &  16        &  97        & 1441014.65 &  -89      \\\\\n",
       "\t 4          &   1        &  20        &   59059.17 &    2      \\\\\n",
       "\t 5          &  NA        &  NA        &         NA &   NA      \\\\\n",
       "\\end{tabular}\n"
      ],
      "text/markdown": [
       "\n",
       "| tierId | diff_unq_users_scan_oct2020_sep2020 | diff_num_bills_scanned_oct2020_sep2020 | diff_scan_amt_billTotal_oct2020_sep2020 | diff_couponUnlocks_oct2020_sep2020 |\n",
       "|---|---|---|---|---|\n",
       "| 1          | -43        | -82        | -202371.97 |  -65       |\n",
       "| 2          |  10        | -85        | -353604.46 | -130       |\n",
       "| 3          |  16        |  97        | 1441014.65 |  -89       |\n",
       "| 4          |   1        |  20        |   59059.17 |    2       |\n",
       "| 5          |  NA        |  NA        |         NA |   NA       |\n",
       "\n"
      ],
      "text/plain": [
       "  tierId diff_unq_users_scan_oct2020_sep2020\n",
       "1 1      -43                                \n",
       "2 2       10                                \n",
       "3 3       16                                \n",
       "4 4        1                                \n",
       "5 5       NA                                \n",
       "  diff_num_bills_scanned_oct2020_sep2020\n",
       "1 -82                                   \n",
       "2 -85                                   \n",
       "3  97                                   \n",
       "4  20                                   \n",
       "5  NA                                   \n",
       "  diff_scan_amt_billTotal_oct2020_sep2020 diff_couponUnlocks_oct2020_sep2020\n",
       "1 -202371.97                               -65                              \n",
       "2 -353604.46                              -130                              \n",
       "3 1441014.65                               -89                              \n",
       "4   59059.17                                 2                              \n",
       "5         NA                                NA                              "
      ]
     },
     "metadata": {},
     "output_type": "display_data"
    }
   ],
   "source": [
    "# adding 4 (difference columns) to monthOnMonthTableQ7P1 and creating a new dataset\n",
    "# with only those columns and the tierId\n",
    "\n",
    "monthOnMonthDifferenceCompQ7Part2 <-  monthOnMonthCompTableQ7P1 %>%\n",
    "  mutate(diff_unq_users_scan_oct2020_sep2020 = (uniqUsersWhoScannedIn_Oct2020 - uniqUsersWhoScannedIn_Sep2020), \n",
    "         diff_num_bills_scanned_oct2020_sep2020 = \n",
    "           (numBillsScannedIn_Oct2020 - numBillsScannedIn_Sep2020), \n",
    "         diff_scan_amt_billTotal_oct2020_sep2020 = \n",
    "           (scanAmountBillTotal_Oct2020 - scanAmountBillTotal_Sep2020), \n",
    "         diff_couponUnlocks_oct2020_sep2020 = \n",
    "           (couponUnlocks_Oct2020 - couponUnlocks_Sep2020)) %>%\n",
    "  select(\"tierId\", starts_with(\"diff\"))\n",
    "\n",
    "monthOnMonthDifferenceCompQ7Part2\n"
   ]
  },
  {
   "cell_type": "markdown",
   "metadata": {},
   "source": [
    "&nbsp;\n",
    "\n",
    "#### **Answer: Q7(Part-2): This also contains  many observations that will count towards the answer of Q7(Part-3).** \n",
    "\n",
    "* In addition to the above graphs, below present is a  table that summarizes the same information (as in the above graphs), but in form of differences (October 2020 minus September 2020) by tierId. For example: **diff_scan_amt_billTotal_oct2020_sep2020** column contains the following information (for each tier): change(increase is +, decrease is -) in billTotal Amount from Sep 2020 to Oct 2020. \n",
    "\n",
    "* **The highest changes for each tier are as follows**:\n",
    "  \n",
    "  * First, note that because there is no data available for tier-5 in Sep 2020, we can not comment on how their metrics changed from september to october. Also, this is true in general for the entire dataset, as only 3 rows of data for tier-5 are present. So, when comparing changes (in various attributes of interest) from September 2020 to October 2020, we will focus on tier 1 to 4.\n",
    "  \n",
    "  * **[Ref table above and also the plot above named: Unique users who scanned in Sep 2020 and Oct 2020]**: The number of unique users who scanned dropped drastically (-43, a 22% decline from 191) for *tier-1* (from Sep2020 to Oct 2020) relative to the other tiers, which saw small gains (from Sep2020 to Oct2020) in the number of unique users who scanned.\n",
    "  \n",
    "  * **[Refer Table above and also the plot above named: Number of bill scanned in Sep 2020 and Oct 2020]**: The total number of bills scanned increased 20 fold (2000%, i.e from 1 to 21) for Tier-4 from September 2020 to October 2020. This was the biggest change in the total number of bills scanned for any given tier. Tier 3 also saw a 51% increase in total number of bills scanned (from 190 in sep 2020 to 287 in occt 2020). For the rest (tier 1 and 2), both saw a decline in the total number of bills scanned, with tier-1(-23%, from 339 to 257) declining almost 3 times more than tier-2(-9% from 935 to 850). \n",
    "  \n",
    "  * **[Refer table above and also the plot above named: Scanned amount in bill total in Sep 2020 and Oct 2020]**: Scanned amount bill total increased (from Sep2020 to Oct2020) the most for Tier-3. This is consistent with point above in which we saw a 51% increase in the number of bills scanned. As, the number of bills scanned increases, so will the scanned amount of the bill. Similarly, as expected the percentage decline in scanned amount bill total for tier-1 is much more (-66%, a decline of ~ -2 Lacs from initial 6 lacs) than tier-2 (-4% ~ -3 lacs, from an intial of 65.5 lacs). Also, as we saw in the above point a 2000% increase in the total number of bills scanned for tier-4 (from sep 2020 to Oct 2020), here similarly we find that the increase in the scanned amount of bill total for tier-4 is a 218 fold increase, from a mere 275 Rs to massive 60K!.\n",
    "  \n",
    "  * **[Refer the table above and also the plot above named: Coupons unlocked in Sep 2020 and October 2020]**: For every tier (except tier-4, for which there was a marginal increase of 2 coupons), the coupon unlocks declined from Sep-2020 to October-2020. The decline in the number of coupons in tier-1 was 3 times (-30%, from 216 to 151) compared to tier-1 and tier-2 (both had a decline of 10%).  \n",
    "   \n",
    "&nbsp;\n",
    "\n",
    "<hr>\n",
    "\n",
    "#### **Answer: Q7(Part-3): Many of the above observations count towards the answer for Q7(Part-3). I will present a few more observations and insights below:**\n",
    "\n",
    "* Tier-1 saw decline in all the places, given a 22% decline (from sep2020 to oct2020) in its unique users who scanned, there was a decline in all other variables too. For example, the *number of bills scanned* (declined by 23%) and scanned amount in bill total (declined by 66%) is expected as the number of unique users dropped from sep2020 to oct2020. Also, there was a 30 percent decline in coupons unlocked for tier-1, which makes sense as its unique users dropped significantly.\n",
    "\n",
    "* For tier-2 even though, it saw a increase in the total number of unique users who scanned, the total number of bills scanned and the scanned amount in bill total both suffered a decline. This may be explained by the fact that the increase in the unique users who scanned was only by ~ 3% (from 341 to 351). So, even if assume that these additional 3% did scan, it is quite possible that this is easily offset by the rest of the tier spending/scanning a little less.\n",
    "\n",
    "* As we noted in Q7 (Part-2), tier-3 saw a signficant increase in the number of bills scanned (and by effect the scanned Amount in Bill total) from September 2020 to October 2020. This increase is in part attributable to a 38% (from 42 to 58) in the number of unique users who scanned in tier-3.\n",
    "\n",
    "* Also, for tier-4 we see that there was an increase of only 1 unique user who scanned (from Sep2020 to Oct2020), but the number of bills scanned increased by 20 fold (from 1 to 21). As a consequence of this the scanned amount in bill total for tier-4  users saw a 218 fold increase, from a mere Rs 275, to Rs 60,000. Although, remember that because there are only 2 unique users in this group. All of this increased scanning of bills can be largely attributed to the user who joined the list (sometime between sep2020 to oct2020) of unique users who scanned.\n",
    "\n",
    "* We see a general trend in which tier-3 and above are scanning more and more, but this whole scanning exercise is significantly reduced for tier 1 and tier-2. This may point that tier-1 and tier-2 are not going out much, to buy things. They reside in high population centers, with access to online services for everything (especially in the times of the Coronavirus pandemic, Oct 2020 was a time at which Pandemic was at its peak). The decline in scanning is probably matched by a rise in online shopping, that does not require any buying or scanning.\n",
    "\n",
    "* But, at the same time, we see a rise in scanning for Tier-3 and Tier-4 users who belong to the suburbs or areas with low population, lack of access to internet, online services, home-delivery, lack of knowledge of using online services etc. Also, it is very likely that these people have much less resources compared to the Tier-1 and Tier-2 users, who can afford to buy much more from the safety of their homes. \n",
    "\n",
    "* It is much more likely, that if tier-3 or tier-4 users need to buy something, they need to go out to the store to do so. This may be due to the fact that they do not have access to smartphones/computers. Or, even if they do, they may not know how to use the various apps on their phones that allow for online shopping. Even, if they do know how to do so, they may not want to pay extra for those services, and may prefer local goods, that may be much cheaper.\n",
    "\n",
    "&nbsp; \n",
    "\n",
    "<hr>\n",
    "* **End of File:** For any questions, please feel free to call me anytime at: 8800592799.\n",
    "<hr>\n"
   ]
  },
  {
   "cell_type": "code",
   "execution_count": null,
   "metadata": {},
   "outputs": [],
   "source": []
  }
 ],
 "metadata": {
  "anaconda-cloud": "",
  "kernelspec": {
   "display_name": "R",
   "language": "R",
   "name": "ir"
  },
  "language_info": {
   "codemirror_mode": "r",
   "file_extension": ".r",
   "mimetype": "text/x-r-source",
   "name": "R",
   "pygments_lexer": "r",
   "version": "3.6.1"
  }
 },
 "nbformat": 4,
 "nbformat_minor": 1
}
